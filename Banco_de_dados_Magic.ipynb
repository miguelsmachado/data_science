{
  "nbformat": 4,
  "nbformat_minor": 0,
  "metadata": {
    "colab": {
      "name": "Banco de dados Magic.ipynb",
      "provenance": [],
      "collapsed_sections": [],
      "authorship_tag": "ABX9TyOSyX09stS8IJ4K1BeKGaOB",
      "include_colab_link": true
    },
    "kernelspec": {
      "name": "python3",
      "display_name": "Python 3"
    },
    "language_info": {
      "name": "python"
    }
  },
  "cells": [
    {
      "cell_type": "markdown",
      "metadata": {
        "id": "view-in-github",
        "colab_type": "text"
      },
      "source": [
        "<a href=\"https://colab.research.google.com/github/miguelsmachado/data_science/blob/master/Banco_de_dados_Magic.ipynb\" target=\"_parent\"><img src=\"https://colab.research.google.com/assets/colab-badge.svg\" alt=\"Open In Colab\"/></a>"
      ]
    },
    {
      "cell_type": "code",
      "source": [
        "import pandas as pd\n"
      ],
      "metadata": {
        "id": "fCputgHYVvH2"
      },
      "execution_count": null,
      "outputs": []
    },
    {
      "cell_type": "code",
      "source": [
        "from urllib.request import urlopen\n",
        "\n",
        "url = 'https://gatherer.wizards.com/Pages/Card/Details.aspx?printed=false&multiverseid=385786'\n",
        "\n",
        "response = urlopen(url)\n",
        "html = response.read()\n",
        "\n",
        "html"
      ],
      "metadata": {
        "colab": {
          "base_uri": "https://localhost:8080/"
        },
        "id": "rBRDLhTOWsBQ",
        "outputId": "52e5e883-07c9-45ae-a01d-0f0588a4a6ba"
      },
      "execution_count": null,
      "outputs": [
        {
          "output_type": "execute_result",
          "data": {
            "text/plain": [
              "b'<?xml version=\"1.0\" encoding=\"utf-8\" ?>\\r\\n\\r\\n\\r\\n\\r\\n<!DOCTYPE html PUBLIC \"-//W3C//DTD XHTML 1.0 Strict//EN\" \"http://www.w3.org/TR/xhtml1/DTD/xhtml1-strict.dtd\">\\r\\n<html xmlns=\"http://www.w3.org/1999/xhtml\">\\r\\n<head><meta http-equiv=\"X-UA-Compatible\" content=\"IE=edge\" /><title>\\r\\n\\t\\xd0\\x9a\\xd0\\xbe\\xd1\\x80\\xd0\\xbe\\xd1\\x81\\xd1\\x82\\xd0\\xb0 (Magic 2015 Core Set) - Gatherer - Magic: The Gathering\\r\\n</title><link rel=\"shortcut icon\" href=\"/Images/favicon.ico\" /><meta name=\"description\" content=\"Gatherer is the Magic Card Database. Search for the perfect addition to your deck. Browse through cards from Magic\\'s entire history. See cards from the most recent sets and discover what players just like you are saying about them.\" /><meta name=\"keywords\" content=\"monitor, gatherer, magic cards, magic the gathering, black lotus, magic: the gathering, wizards of the coast, wizards, trading card game, trading cards, collectible card game, tcg, ccg, magic sets, game, multiplayer, hobby\" /><meta name=\"theme-color\" content=\"#191919\" /><meta name=\"msapplication-TileColor\" content=\"#191919\" /><link id=\"ctl00_ctl00_ctl00_mobileStylesheetsMobile\" rel=\"stylesheet\" href=\"/Styles/Styles_Mobile.css?time=-1362339963\" media=\"(max-width:749px)\" /><link id=\"ctl00_ctl00_ctl00_mobileStylesheetsDesktop\" rel=\"stylesheet\" href=\"/Styles/Styles_Desktop.css?time=-1362339963\" media=\"(min-width:750px)\" /><meta id=\"ctl00_ctl00_ctl00_mobileMeta\" name=\"viewport\" content=\"width=device-width, initial-scale=1\" /><link rel=\"stylesheet\" href=\"../../Styles/fonts/opensans_regular_macroman/regular.css\" type=\"text/css\" charset=\"utf-8\" /><link rel=\"stylesheet\" href=\"../../Styles/fonts/opensans_semibold_macroman/semibold.css\" type=\"text/css\" charset=\"utf-8\" /><link rel=\"stylesheet\" href=\"../../Styles/fonts/opensans_bold_macroman/bold.css\" type=\"text/css\" charset=\"utf-8\" /><link rel=\"stylesheet\" href=\"../../Styles/fonts/Beleren/Beleren-Bold.css\" type=\"text/css\" />\\r\\n    <!-- google analytics -->\\r\\n    <script type=\"text/javascript\">\\r\\n        var gaJsHost = ((\"https:\" == document.location.protocol) ? \"https://ssl.\" : \"http://www.\");\\r\\n        document.write(unescape(\"%3Cscript src=\\'\" + gaJsHost + \"google-analytics.com/ga.js\\' type=\\'text/javascript\\'%3E%3C/script%3E\"));\\r\\n    </script>\\r\\n    <script type=\"text/javascript\">\\r\\n        try {\\r\\n            var pageTracker = _gat._getTracker(\"UA-15020098-7\");\\r\\n            pageTracker._setDomainName(\".wizards.com\");\\r\\n            pageTracker._trackPageview();\\r\\n        } catch (err) { }\\r\\n    </script>\\r\\n    <script type=\"text/javascript\" src=\"https://ajax.googleapis.com/ajax/libs/jquery/1.7.2/jquery.min.js\"></script>\\r\\n    <script type=\"text/javascript\" src=\"//media.wizards.com/2018/images/magic/gatherer/popularsearch.js\"></script>\\r\\n    <script language=\"javascript\" type=\"text/javascript\" src=\"/Scripts/Login.js\"></script>\\r\\n\\t<!--Cookie Banner supplied by Haven start-->\\r\\n\\t<script type=\"text/javascript\" src=\"/Scripts/jquery.cookie.js\"></script>\\r\\n    <!--Cookie Banner supplied by Haven end-->\\r\\n\\t<script src=\"../Scripts/GathererCookie.js\" type=\"text/javascript\"></script>\\r\\n</head>\\r\\n<body>\\r\\n    <script type=\"text/javascript\">\\r\\n        jQuery.noConflict();\\r\\n        jQuery(document).ready(function() {\\r\\n            if (typeof wotcAccountWidget !== \"undefined\") {\\r\\n                wotcAccountWidget.init(false, \"screenname\", null, OnLoggedIn, OnLoginCanceled, OnLoggedOut, null, true, true, true, true);\\r\\n            }\\r\\n        });\\r\\n    </script>\\r\\n    <form name=\"aspnetForm\" method=\"post\" action=\"Details.aspx?printed=false&amp;multiverseid=385786\" id=\"aspnetForm\" onclick=\"\">\\r\\n<input type=\"hidden\" name=\"__VIEWSTATE\" id=\"__VIEWSTATE\" value=\"/wEPDwULLTE0MDA5NDYzOTdkZAI2a0Q66yiOieYsfet60eq7AS/6\" />\\r\\n\\r\\n\\r\\n<script src=\"../../Scripts/Prototype.js\" type=\"text/javascript\"></script>\\r\\n<script src=\"../../Scripts/Utilities.js\" type=\"text/javascript\"></script>\\r\\n<script type=\"text/javascript\">\\r\\n//<![CDATA[\\r\\nvar cardSearchPage = \\'/Pages/Search/Default.aspx\\';\\r\\nvar UtilitiesHandler = \\'/Handlers/RPCUtilities.ashx\\';\\r\\nvar leftStar = \\'../../Images/Stars/LeftSolid.png\\';\\r\\nvar leftStarClear = \\'../../Images/Stars/LeftClear.png\\';\\r\\nvar leftStarSelected = \\'../../Images/Stars/LeftSelected.png\\';\\r\\nvar rightStar = \\'../../Images/Stars/RightSolid.png\\';\\r\\nvar rightStarClear = \\'../../Images/Stars/RightClear.png\\';\\r\\nvar rightStarSelected = \\'../../Images/Stars/RightSelected.png\\';\\r\\nvar utilitiesHandler = \\'../../Handlers/RPCUtilities.ashx\\';\\r\\nvar CardDatabaseSettings = \\'CardDatabaseSettings\\';\\r\\nvar SelectingCardAction = \\'NavigatesToCard\\';\\r\\nvar inlineCardSearchHandler = \\'/Handlers/InlineCardSearch.ashx\\';\\r\\nvar autoCompleteGroupBy = \\'None\\';\\r\\nvar imageHandler = \\'/Handlers/Image.ashx\\';\\r\\nvar cardDetailsPage = \\'/Pages/Card/Details.aspx\\';\\r\\n\\r\\nvar enableCardSearchAutoComplete = true;\\r\\nvar enableHintText = true;\\r\\nvar enableCardSearchAutoCompleteIfNameUnchecked = false;\\r\\n\\r\\n\\r\\n\\r\\nfunction ClientIDs() {}\\r\\nClientIDs.mobileStylesheetsMobile = \\'ctl00_ctl00_ctl00_mobileStylesheetsMobile\\';\\r\\nClientIDs.mobileStylesheetsDesktop = \\'ctl00_ctl00_ctl00_mobileStylesheetsDesktop\\';\\r\\nClientIDs.mobileMeta = \\'ctl00_ctl00_ctl00_mobileMeta\\';\\r\\nClientIDs.nonmobileStylesheetsDesktop = \\'ctl00_ctl00_ctl00_nonmobileStylesheetsDesktop\\';\\r\\nClientIDs.MainForm = \\'aspnetForm\\';\\r\\nClientIDs.bannerHeader = \\'ctl00_ctl00_ctl00_bannerHeader\\';\\r\\nClientIDs.altHead = \\'ctl00_ctl00_ctl00_altHead\\';\\r\\nClientIDs.gobacktohome = \\'ctl00_ctl00_ctl00_gobacktohome\\';\\r\\nClientIDs.SearchControls = \\'ctl00_ctl00_ctl00_SearchControls\\';\\r\\nClientIDs.SearchBoxContainer = \\'ctl00_ctl00_ctl00_SearchControls_SearchBoxContainer\\';\\r\\nClientIDs.CardSearchBoxParent = \\'ctl00_ctl00_ctl00_SearchControls_CardSearchBoxParent\\';\\r\\nClientIDs.HeaderCardSearchBox = \\'ctl00_ctl00_ctl00_SearchControls_CardSearchBoxParent_HeaderCardSearchBox\\';\\r\\nClientIDs.headerSearchSubmitButton = \\'ctl00_ctl00_ctl00_SearchControls_headerSearchSubmitButton\\';\\r\\nClientIDs.HeaderSearchBoxResults = \\'ctl00_ctl00_ctl00_SearchControls_HeaderSearchBoxResults\\';\\r\\nClientIDs.HeaderSearchBoxResultsContent = \\'ctl00_ctl00_ctl00_SearchControls_HeaderSearchBoxResultsContent\\';\\r\\nClientIDs.HeaderAllResultsLink = \\'ctl00_ctl00_ctl00_SearchControls_HeaderAllResultsLink\\';\\r\\nClientIDs.Simple = \\'ctl00_ctl00_ctl00_Simple\\';\\r\\nClientIDs.Advanced = \\'ctl00_ctl00_ctl00_Advanced\\';\\r\\nClientIDs.Random = \\'ctl00_ctl00_ctl00_Random\\';\\r\\nClientIDs.MainContainer = \\'ctl00_ctl00_ctl00_MainContainer\\';\\r\\nClientIDs.gathererIntroText = \\'ctl00_ctl00_ctl00_gathererIntroText\\';\\r\\nClientIDs.MainContent = \\'ctl00_ctl00_ctl00_MainContent\\';\\r\\nClientIDs.NavigationLinks = \\'ctl00_ctl00_ctl00_MainContent_NavigationLinks\\';\\r\\nClientIDs.NavigationAnchorsContainer = \\'ctl00_ctl00_ctl00_MainContent_NavigationLinks_NavigationAnchorsContainer\\';\\r\\nClientIDs.Settings = \\'ctl00_ctl00_ctl00_MainContent_NavigationLinks_Settings\\';\\r\\nClientIDs.Language = \\'ctl00_ctl00_ctl00_MainContent_NavigationLinks_Language\\';\\r\\nClientIDs.Help = \\'ctl00_ctl00_ctl00_MainContent_NavigationLinks_Help\\';\\r\\nClientIDs.Configuration = \\'ctl00_ctl00_ctl00_MainContent_NavigationLinks_Configuration\\';\\r\\nClientIDs.SubContent = \\'ctl00_ctl00_ctl00_MainContent_SubContent\\';\\r\\nClientIDs.SubContentHeader = \\'ctl00_ctl00_ctl00_MainContent_SubContent_SubContentHeader\\';\\r\\nClientIDs.subtitleDisplay = \\'ctl00_ctl00_ctl00_MainContent_SubContent_SubContentHeader_subtitleDisplay\\';\\r\\nClientIDs.SubContentAnchors = \\'ctl00_ctl00_ctl00_MainContent_SubContent_SubContentAnchors\\';\\r\\nClientIDs.DetailsAnchors = \\'ctl00_ctl00_ctl00_MainContent_SubContent_SubContentAnchors_DetailsAnchors\\';\\r\\nClientIDs.ContentNavigationControlsContainer = \\'ctl00_ctl00_ctl00_MainContent_SubContent_SubContentAnchors_DetailsAnchors_ContentNavigationControlsContainer\\';\\r\\nClientIDs.Details = \\'ctl00_ctl00_ctl00_MainContent_SubContent_SubContentAnchors_DetailsAnchors_Details\\';\\r\\nClientIDs.DetailsLink = \\'ctl00_ctl00_ctl00_MainContent_SubContent_SubContentAnchors_DetailsAnchors_DetailsLink\\';\\r\\nClientIDs.Label3 = \\'ctl00_ctl00_ctl00_MainContent_SubContent_SubContentAnchors_DetailsAnchors_Label3\\';\\r\\nClientIDs.Printings = \\'ctl00_ctl00_ctl00_MainContent_SubContent_SubContentAnchors_DetailsAnchors_Printings\\';\\r\\nClientIDs.PrintingsLink = \\'ctl00_ctl00_ctl00_MainContent_SubContent_SubContentAnchors_DetailsAnchors_PrintingsLink\\';\\r\\nClientIDs.Label2 = \\'ctl00_ctl00_ctl00_MainContent_SubContent_SubContentAnchors_DetailsAnchors_Label2\\';\\r\\nClientIDs.Languages = \\'ctl00_ctl00_ctl00_MainContent_SubContent_SubContentAnchors_DetailsAnchors_Languages\\';\\r\\nClientIDs.LanguagesLink = \\'ctl00_ctl00_ctl00_MainContent_SubContent_SubContentAnchors_DetailsAnchors_LanguagesLink\\';\\r\\nClientIDs.Label1 = \\'ctl00_ctl00_ctl00_MainContent_SubContent_SubContentAnchors_DetailsAnchors_Label1\\';\\r\\nClientIDs.Discussion = \\'ctl00_ctl00_ctl00_MainContent_SubContent_SubContentAnchors_DetailsAnchors_Discussion\\';\\r\\nClientIDs.DiscussionLink = \\'ctl00_ctl00_ctl00_MainContent_SubContent_SubContentAnchors_DetailsAnchors_DiscussionLink\\';\\r\\nClientIDs.Artwork = \\'ctl00_ctl00_ctl00_MainContent_SubContent_SubContentAnchors_DetailsAnchors_Artwork\\';\\r\\nClientIDs.ArtworkLink = \\'ctl00_ctl00_ctl00_MainContent_SubContent_SubContentAnchors_DetailsAnchors_ArtworkLink\\';\\r\\nClientIDs.topPagingControlsContainer = \\'ctl00_ctl00_ctl00_MainContent_SubContent_topPagingControlsContainer\\';\\r\\nClientIDs.cardAdminControls = \\'ctl00_ctl00_ctl00_MainContent_SubContent_SubContent_cardAdminControls\\';\\r\\nClientIDs.editLink = \\'ctl00_ctl00_ctl00_MainContent_SubContent_SubContent_editLink\\';\\r\\nClientIDs.cardComponent0 = \\'ctl00_ctl00_ctl00_MainContent_SubContent_SubContent_cardComponent0\\';\\r\\nClientIDs.leftColumn = \\'ctl00_ctl00_ctl00_MainContent_SubContent_SubContent_leftColumn\\';\\r\\nClientIDs.imagePlaceHolder = \\'ctl00_ctl00_ctl00_MainContent_SubContent_SubContent_imagePlaceHolder\\';\\r\\nClientIDs.cardImage = \\'ctl00_ctl00_ctl00_MainContent_SubContent_SubContent_cardImage\\';\\r\\nClientIDs.specialCaseBreaker = \\'ctl00_ctl00_ctl00_MainContent_SubContent_SubContent_specialCaseBreaker\\';\\r\\nClientIDs.otherVariations = \\'ctl00_ctl00_ctl00_MainContent_SubContent_SubContent_otherVariations\\';\\r\\nClientIDs.variationLinks = \\'ctl00_ctl00_ctl00_MainContent_SubContent_SubContent_variationLinks\\';\\r\\nClientIDs.playerRatingRow = \\'ctl00_ctl00_ctl00_MainContent_SubContent_SubContent_playerRatingRow\\';\\r\\nClientIDs.ratingResult = \\'ctl00_ctl00_ctl00_MainContent_SubContent_SubContent_ratingResult\\';\\r\\nClientIDs.currentRating = \\'ctl00_ctl00_ctl00_MainContent_SubContent_SubContent_currentRating\\';\\r\\nClientIDs.starRating = \\'ctl00_ctl00_ctl00_MainContent_SubContent_SubContent_currentRating_starRating\\';\\r\\nClientIDs.textRatingContainer = \\'ctl00_ctl00_ctl00_MainContent_SubContent_SubContent_currentRating_textRatingContainer\\';\\r\\nClientIDs.textRating = \\'ctl00_ctl00_ctl00_MainContent_SubContent_SubContent_currentRating_textRating\\';\\r\\nClientIDs.totalVotes = \\'ctl00_ctl00_ctl00_MainContent_SubContent_SubContent_currentRating_totalVotes\\';\\r\\nClientIDs.extraVoteInfo = \\'ctl00_ctl00_ctl00_MainContent_SubContent_SubContent_currentRating_extraVoteInfo\\';\\r\\nClientIDs.discussionLink = \\'ctl00_ctl00_ctl00_MainContent_SubContent_SubContent_discussionLink\\';\\r\\nClientIDs.Literal1 = \\'ctl00_ctl00_ctl00_MainContent_SubContent_SubContent_Literal1\\';\\r\\nClientIDs.Literal2 = \\'ctl00_ctl00_ctl00_MainContent_SubContent_SubContent_Literal2\\';\\r\\nClientIDs.Literal3 = \\'ctl00_ctl00_ctl00_MainContent_SubContent_SubContent_Literal3\\';\\r\\nClientIDs.specialCaseLayoutBreakers = \\'ctl00_ctl00_ctl00_MainContent_SubContent_SubContent_specialCaseLayoutBreakers\\';\\r\\nClientIDs.rightCol = \\'ctl00_ctl00_ctl00_MainContent_SubContent_SubContent_rightCol\\';\\r\\nClientIDs.cardWordingSwitch = \\'ctl00_ctl00_ctl00_MainContent_SubContent_SubContent_cardWordingSwitch\\';\\r\\nClientIDs.cardParts = \\'ctl00_ctl00_ctl00_MainContent_SubContent_SubContent_cardParts\\';\\r\\nClientIDs.nameRow = \\'ctl00_ctl00_ctl00_MainContent_SubContent_SubContent_nameRow\\';\\r\\nClientIDs.nameLabel = \\'ctl00_ctl00_ctl00_MainContent_SubContent_SubContent_nameLabel\\';\\r\\nClientIDs.nameValue = \\'ctl00_ctl00_ctl00_MainContent_SubContent_SubContent_nameValue\\';\\r\\nClientIDs.manaRow = \\'ctl00_ctl00_ctl00_MainContent_SubContent_SubContent_manaRow\\';\\r\\nClientIDs.manacostLabel = \\'ctl00_ctl00_ctl00_MainContent_SubContent_SubContent_manacostLabel\\';\\r\\nClientIDs.manacostValue = \\'ctl00_ctl00_ctl00_MainContent_SubContent_SubContent_manacostValue\\';\\r\\nClientIDs.cmcRow = \\'ctl00_ctl00_ctl00_MainContent_SubContent_SubContent_cmcRow\\';\\r\\nClientIDs.cmcLabel = \\'ctl00_ctl00_ctl00_MainContent_SubContent_SubContent_cmcLabel\\';\\r\\nClientIDs.cmcValue = \\'ctl00_ctl00_ctl00_MainContent_SubContent_SubContent_cmcValue\\';\\r\\nClientIDs.typeRow = \\'ctl00_ctl00_ctl00_MainContent_SubContent_SubContent_typeRow\\';\\r\\nClientIDs.typeLineLabel = \\'ctl00_ctl00_ctl00_MainContent_SubContent_SubContent_typeLineLabel\\';\\r\\nClientIDs.typeLineValue = \\'ctl00_ctl00_ctl00_MainContent_SubContent_SubContent_typeLineValue\\';\\r\\nClientIDs.textRow = \\'ctl00_ctl00_ctl00_MainContent_SubContent_SubContent_textRow\\';\\r\\nClientIDs.cardTextLabel = \\'ctl00_ctl00_ctl00_MainContent_SubContent_SubContent_cardTextLabel\\';\\r\\nClientIDs.cardTextValue = \\'ctl00_ctl00_ctl00_MainContent_SubContent_SubContent_cardTextValue\\';\\r\\nClientIDs.flavorRow = \\'ctl00_ctl00_ctl00_MainContent_SubContent_SubContent_flavorRow\\';\\r\\nClientIDs.flavorTextLabel = \\'ctl00_ctl00_ctl00_MainContent_SubContent_SubContent_flavorTextLabel\\';\\r\\nClientIDs.FlavorText = \\'ctl00_ctl00_ctl00_MainContent_SubContent_SubContent_FlavorText\\';\\r\\nClientIDs.flavorTextValue = \\'ctl00_ctl00_ctl00_MainContent_SubContent_SubContent_flavorTextValue\\';\\r\\nClientIDs.markRow = \\'ctl00_ctl00_ctl00_MainContent_SubContent_SubContent_markRow\\';\\r\\nClientIDs.markTextLabel = \\'ctl00_ctl00_ctl00_MainContent_SubContent_SubContent_markTextLabel\\';\\r\\nClientIDs.Watermark = \\'ctl00_ctl00_ctl00_MainContent_SubContent_SubContent_Watermark\\';\\r\\nClientIDs.markTextValue = \\'ctl00_ctl00_ctl00_MainContent_SubContent_SubContent_markTextValue\\';\\r\\nClientIDs.colorIndicatorRow = \\'ctl00_ctl00_ctl00_MainContent_SubContent_SubContent_colorIndicatorRow\\';\\r\\nClientIDs.colorIndicatorLabel = \\'ctl00_ctl00_ctl00_MainContent_SubContent_SubContent_colorIndicatorLabel\\';\\r\\nClientIDs.colorIndicatorValue = \\'ctl00_ctl00_ctl00_MainContent_SubContent_SubContent_colorIndicatorValue\\';\\r\\nClientIDs.ptRow = \\'ctl00_ctl00_ctl00_MainContent_SubContent_SubContent_ptRow\\';\\r\\nClientIDs.bottomNumbersLabel = \\'ctl00_ctl00_ctl00_MainContent_SubContent_SubContent_bottomNumbersLabel\\';\\r\\nClientIDs.bottomNumbersValue = \\'ctl00_ctl00_ctl00_MainContent_SubContent_SubContent_bottomNumbersValue\\';\\r\\nClientIDs.setRow = \\'ctl00_ctl00_ctl00_MainContent_SubContent_SubContent_setRow\\';\\r\\nClientIDs.setLabel = \\'ctl00_ctl00_ctl00_MainContent_SubContent_SubContent_setLabel\\';\\r\\nClientIDs.currentSetSymbol = \\'ctl00_ctl00_ctl00_MainContent_SubContent_SubContent_currentSetSymbol\\';\\r\\nClientIDs.setValue = \\'ctl00_ctl00_ctl00_MainContent_SubContent_SubContent_setValue\\';\\r\\nClientIDs.rarityRow = \\'ctl00_ctl00_ctl00_MainContent_SubContent_SubContent_rarityRow\\';\\r\\nClientIDs.rarityLabel = \\'ctl00_ctl00_ctl00_MainContent_SubContent_SubContent_rarityLabel\\';\\r\\nClientIDs.rarityValue = \\'ctl00_ctl00_ctl00_MainContent_SubContent_SubContent_rarityValue\\';\\r\\nClientIDs.otherSetsRow = \\'ctl00_ctl00_ctl00_MainContent_SubContent_SubContent_otherSetsRow\\';\\r\\nClientIDs.otherSetsLabel = \\'ctl00_ctl00_ctl00_MainContent_SubContent_SubContent_otherSetsLabel\\';\\r\\nClientIDs.otherSetsValue = \\'ctl00_ctl00_ctl00_MainContent_SubContent_SubContent_otherSetsValue\\';\\r\\nClientIDs.numberRow = \\'ctl00_ctl00_ctl00_MainContent_SubContent_SubContent_numberRow\\';\\r\\nClientIDs.numberLabel = \\'ctl00_ctl00_ctl00_MainContent_SubContent_SubContent_numberLabel\\';\\r\\nClientIDs.CardNumberValue = \\'ctl00_ctl00_ctl00_MainContent_SubContent_SubContent_CardNumberValue\\';\\r\\nClientIDs.numberValue = \\'ctl00_ctl00_ctl00_MainContent_SubContent_SubContent_numberValue\\';\\r\\nClientIDs.artistRow = \\'ctl00_ctl00_ctl00_MainContent_SubContent_SubContent_artistRow\\';\\r\\nClientIDs.artistLabel = \\'ctl00_ctl00_ctl00_MainContent_SubContent_SubContent_artistLabel\\';\\r\\nClientIDs.ArtistCredit = \\'ctl00_ctl00_ctl00_MainContent_SubContent_SubContent_ArtistCredit\\';\\r\\nClientIDs.artistValue = \\'ctl00_ctl00_ctl00_MainContent_SubContent_SubContent_artistValue\\';\\r\\nClientIDs.linkedRow = \\'ctl00_ctl00_ctl00_MainContent_SubContent_SubContent_linkedRow\\';\\r\\nClientIDs.linkedLabel = \\'ctl00_ctl00_ctl00_MainContent_SubContent_SubContent_linkedLabel\\';\\r\\nClientIDs.Div2 = \\'ctl00_ctl00_ctl00_MainContent_SubContent_SubContent_Div2\\';\\r\\nClientIDs.linkedValue = \\'ctl00_ctl00_ctl00_MainContent_SubContent_SubContent_linkedValue\\';\\r\\nClientIDs.rulingsRow = \\'ctl00_ctl00_ctl00_MainContent_SubContent_SubContent_rulingsRow\\';\\r\\nClientIDs.rulingsContainer = \\'ctl00_ctl00_ctl00_MainContent_SubContent_SubContent_rulingsContainer\\';\\r\\nClientIDs.rulingsRepeater = \\'ctl00_ctl00_ctl00_MainContent_SubContent_SubContent_rulingsRepeater\\';\\r\\nClientIDs.rulingDate = \\'ctl00_ctl00_ctl00_MainContent_SubContent_SubContent_rulingsRepeater_ctl00_rulingDate\\';\\r\\nClientIDs.rulingText = \\'ctl00_ctl00_ctl00_MainContent_SubContent_SubContent_rulingsRepeater_ctl00_rulingText\\';\\r\\nClientIDs.cardComponent1 = \\'ctl00_ctl00_ctl00_MainContent_SubContent_SubContent_cardComponent1\\';\\r\\nClientIDs.bottomPagingControlsContainer = \\'ctl00_ctl00_ctl00_MainContent_SubContent_bottomPagingControlsContainer\\';\\r\\nClientIDs.RightBannerAdvertisement = \\'ctl00_ctl00_ctl00_RightBannerAdvertisement\\';\\r\\nClientIDs.backgroundBottom = \\'ctl00_ctl00_ctl00_backgroundBottom\\';\\r\\nClientIDs.frontPageMessages = \\'ctl00_ctl00_ctl00_frontPageMessages\\';\\r\\nClientIDs.footer = \\'ctl00_ctl00_ctl00_footer\\';\\r\\nClientIDs.A5 = \\'ctl00_ctl00_ctl00_A5\\';\\r\\nClientIDs.A6 = \\'ctl00_ctl00_ctl00_A6\\';\\r\\nClientIDs.A7 = \\'ctl00_ctl00_ctl00_A7\\';\\r\\nClientIDs.A1 = \\'ctl00_ctl00_ctl00_A1\\';\\r\\nClientIDs.A2 = \\'ctl00_ctl00_ctl00_A2\\';\\r\\nClientIDs.A4 = \\'ctl00_ctl00_ctl00_A4\\';\\r\\nClientIDs.Label4 = \\'ctl00_ctl00_ctl00_Label4\\';\\r\\nClientIDs.A3 = \\'ctl00_ctl00_ctl00_A3\\';\\r\\nClientIDs.loginSeparator = \\'ctl00_ctl00_ctl00_loginSeparator\\';\\r\\nClientIDs.loginLinkPlaceholder = \\'ctl00_ctl00_ctl00_loginLinkPlaceholder\\';\\r\\nClientIDs.CopyrightYear = \\'ctl00_ctl00_ctl00_CopyrightYear\\';\\r\\nvar textBoxHash = new Hash( { ctl00_ctl00_ctl00_SearchControls_CardSearchBoxParent_HeaderCardSearchBox: \\'Search Terms...\\' } );//]]>\\r\\n</script>\\r\\n\\r\\n<script src=\"../../Scripts/Constants.js\" type=\"text/javascript\"></script>\\r\\n<script src=\"../../Scripts/CardDatabase.js\" type=\"text/javascript\"></script>\\r\\n<script src=\"../../Scripts/CardDetails.js\" type=\"text/javascript\"></script>\\r\\n<script src=\"../../Scripts/StarRating.js\" type=\"text/javascript\"></script>\\r\\n<script src=\"../../Scripts/SearchControls.js\" type=\"text/javascript\"></script>\\r\\n<script type=\"text/javascript\">\\r\\n//<![CDATA[\\r\\nEvent.observe(window, \\'load\\', SubscribeToStarEvents);\\r\\n//]]>\\r\\n</script>\\r\\n\\r\\n<input type=\"hidden\" name=\"__VIEWSTATEGENERATOR\" id=\"__VIEWSTATEGENERATOR\" value=\"55329D01\" />\\r\\n<input type=\"hidden\" name=\"__EVENTVALIDATION\" id=\"__EVENTVALIDATION\" value=\"/wEWAwLSxf2bBQLqm/3ZBgLR3aZUIjxTQtjSnLAE4Fi31gQA0J/7FGU=\" />\\r\\n    <div style=\"width: 100%; height: 1px;\">\\r\\n    </div>\\r\\n    \\r\\n    <div id=\"ctl00_ctl00_ctl00_altHead\" class=\"altHead\">\\r\\n        <div class=\"backgroundTop\">\\r\\n                    \\r\\n        </div>\\r\\n        <div class=\"headerSearch\">\\r\\n            <a href=\"https://magic.wizards.com\" class=\"headerLogoContainer\"> <img class=\"MagicLogoNew\" src=\"//media.wizards.com/2018/images/magic/gatherer/magic_logo.png\" /></a>\\r\\n            <div class=\"headerRightOfLogo\">\\r\\n                <div class=\"headerSearchTitle\"><a href=\"../Default.aspx\" id=\"ctl00_ctl00_ctl00_gobacktohome\"> GATHERER</a></div>     \\r\\n                \\r\\n<div class=\"searchcontrolsNew\">\\r\\n    <div id=\"ctl00_ctl00_ctl00_SearchControls_SearchBoxContainer\" class=\"searchboxcontainertop\">\\r\\n        \\r\\n\\r\\n<div class=\"textboxnew\" id=\"ctl00_ctl00_ctl00_SearchControls_CardSearchBoxParent\" style=\"\"><input name=\"ctl00$ctl00$ctl00$SearchControls$CardSearchBoxParent$HeaderCardSearchBox\" type=\"text\" id=\"ctl00_ctl00_ctl00_SearchControls_CardSearchBoxParent_HeaderCardSearchBox\" class=\"textboxinputnew\" onblur=\"SetCurrentControlBlur(event)\" onfocus=\"SetCurrentControlFocus(event, this);\" autocomplete=\"off\" maxlength=\"50\" /></div>\\r\\n        <div class=\"searchsubmit\">\\r\\n            <input type=\"submit\" name=\"ctl00$ctl00$ctl00$SearchControls$headerSearchSubmitButton\" value=\"SEARCH\" id=\"ctl00_ctl00_ctl00_SearchControls_headerSearchSubmitButton\" class=\"searchbutton\" />\\r\\n        </div>\\r\\n    </div>\\r\\n    <!-- Autocomplete Results -->\\r\\n    <div id=\"ctl00_ctl00_ctl00_SearchControls_HeaderSearchBoxResults\" class=\"searchresultscontainertop\">\\r\\n        <div class=\"smallGreyBorder\">\\r\\n\\r\\n            <div class=\"simpleRoundedBoxTitleGrey\">\\r\\n                Results\\r\\n            </div>\\r\\n            <div id=\"ctl00_ctl00_ctl00_SearchControls_HeaderSearchBoxResultsContent\" style=\"background-color: #b7b7b7; padding-bottom: 1px\">\\r\\n            </div>\\r\\n            <div class=\"simpleRoundedBoxFooterGrey\">\\r\\n                <span><a href=\"javascript:void(0);\" id=\"ctl00_ctl00_ctl00_SearchControls_HeaderAllResultsLink\" class=\"autoCompleteAllResults\">\\r\\n                    <span>All Results</span></a></span></div>\\r\\n            <b class=\"cc\"><b></b></b>\\r\\n        </div>\\r\\n    </div>\\r\\n    <!-- /Autocomplete Results -->\\r\\n   \\r\\n</div>\\r\\n\\r\\n                <div class=\"headerSearchLinks\">\\r\\n                    <div>\\r\\n                        <a href=\"../Default.aspx\" id=\"ctl00_ctl00_ctl00_Simple\">SIMPLE SEARCH</a>\\r\\n                    </div> |\\r\\n                    <div>\\r\\n                        <a href=\"../Advanced.aspx\" id=\"ctl00_ctl00_ctl00_Advanced\"> ADVANCED SEARCH</a>\\r\\n                    </div> |\\r\\n                    <div>\\r\\n                        <a href=\"Details.aspx?action=random\" id=\"ctl00_ctl00_ctl00_Random\"> RANDOM CARD</a>\\r\\n                    </div> \\r\\n                </div>\\r\\n            </div>\\r\\n        </div>\\r\\n    </div>\\r\\n    <div id=\"ctl00_ctl00_ctl00_MainContainer\" class=\"mainContainer\">\\r\\n        <div id=\"Main\" >\\r\\n            <div class=\"gathererContent\">\\r\\n                \\r\\n                \\r\\n    <div id=\"ctl00_ctl00_ctl00_MainContent_NavigationLinks_NavigationAnchorsContainer\" class=\"searchcontrollinks\">\\r\\n    <a href=\"../Default.aspx\" id=\"ctl00_ctl00_ctl00_MainContent_NavigationLinks_Simple\" class=\"current\">SIMPLE</a>\\r\\n    <a href=\"../Advanced.aspx\" id=\"ctl00_ctl00_ctl00_MainContent_NavigationLinks_Advanced\">ADVANCED</a>\\r\\n    <a href=\"Details.aspx?action=random\" id=\"ctl00_ctl00_ctl00_MainContent_NavigationLinks_Random\">Random Card</a>\\r\\n    <a href=\"../Settings.aspx\" id=\"ctl00_ctl00_ctl00_MainContent_NavigationLinks_Settings\">Settings</a>\\r\\n    <a href=\"../Language.aspx\" id=\"ctl00_ctl00_ctl00_MainContent_NavigationLinks_Language\">Language</a>\\r\\n    <a href=\"../Help.aspx\" id=\"ctl00_ctl00_ctl00_MainContent_NavigationLinks_Help\">Help</a>\\r\\n    \\r\\n</div>\\r\\n\\r\\n    \\r\\n   \\r\\n    \\r\\n    \\r\\n     \\r\\n   \\r\\n                               \\r\\n    <div class=\"contentcontainer\">\\r\\n        \\r\\n        \\r\\n  \\r\\n      \\r\\n        <div class=\"smallGreyBorder\">\\r\\n            \\r\\n          \\r\\n\\r\\n            <b class=\"dt\"><b></b></b>\\r\\n            <div class=\"simpleRoundedBoxTitleGreyTall\">\\r\\n           \\r\\n           \\r\\n                 <div class=\"contentTitle\">      \\r\\n                    \\r\\n    <span id=\"ctl00_ctl00_ctl00_MainContent_SubContent_SubContentHeader_subtitleDisplay\">\\xd0\\x9a\\xd0\\xbe\\xd1\\x80\\xd0\\xbe\\xd1\\x81\\xd1\\x82\\xd0\\xb0</span>\\r\\n\\r\\n                    \\r\\n                   \\r\\n                               \\r\\n                </div>\\r\\n                \\r\\n    \\r\\n    \\r\\n<div class=\"contentLinksContainer\">\\r\\n    <div class=\"separatorWrapper\">\\r\\n        <div class=\"separatorBackground\"></div>\\r\\n    </div>\\r\\n    <ul id=\"ctl00_ctl00_ctl00_MainContent_SubContent_SubContentAnchors_DetailsAnchors_ContentNavigationControlsContainer\" class=\"contentlinks\">\\r\\n        <li id=\"ctl00_ctl00_ctl00_MainContent_SubContent_SubContentAnchors_DetailsAnchors_Details\" class=\"current\"><a href=\"Details.aspx?multiverseid=385786\" id=\"ctl00_ctl00_ctl00_MainContent_SubContent_SubContentAnchors_DetailsAnchors_DetailsLink\"><span id=\"ctl00_ctl00_ctl00_MainContent_SubContent_SubContentAnchors_DetailsAnchors_Label3\">Details</span> | </a></li>\\r\\n        <li id=\"ctl00_ctl00_ctl00_MainContent_SubContent_SubContentAnchors_DetailsAnchors_Printings\"><a href=\"Printings.aspx?multiverseid=385786\" id=\"ctl00_ctl00_ctl00_MainContent_SubContent_SubContentAnchors_DetailsAnchors_PrintingsLink\"><span id=\"ctl00_ctl00_ctl00_MainContent_SubContent_SubContentAnchors_DetailsAnchors_Label2\">Sets & Legality</span> |</a></li>\\r\\n        <li id=\"ctl00_ctl00_ctl00_MainContent_SubContent_SubContentAnchors_DetailsAnchors_Languages\"><a href=\"Languages.aspx?multiverseid=385786\" id=\"ctl00_ctl00_ctl00_MainContent_SubContent_SubContentAnchors_DetailsAnchors_LanguagesLink\"><span id=\"ctl00_ctl00_ctl00_MainContent_SubContent_SubContentAnchors_DetailsAnchors_Label1\">Language</span> | </a></li>\\r\\n        <li id=\"ctl00_ctl00_ctl00_MainContent_SubContent_SubContentAnchors_DetailsAnchors_Discussion\"><a href=\"Discussion.aspx?multiverseid=385786\" id=\"ctl00_ctl00_ctl00_MainContent_SubContent_SubContentAnchors_DetailsAnchors_DiscussionLink\"><span>Discussion</span>  </a></li>\\r\\n         \\r\\n    </ul>\\r\\n</div>\\r\\n\\r\\n               <div class=\"pagingcontrols\">\\r\\n                    <div id=\"ctl00_ctl00_ctl00_MainContent_SubContent_topPagingControlsContainer\" class=\"paging\">\\r\\n                    </div>\\r\\n                </div> \\r\\n               \\r\\n            </div>\\r\\n            \\r\\n    \\r\\n    <div class=\"cardContent\">\\r\\n        <img class=\"cardCircle\" src=\"/Images/Card_Circles.png\"/>\\r\\n        <table class=\"cardComponentTable\">\\r\\n            <tr>\\r\\n                <td id=\"ctl00_ctl00_ctl00_MainContent_SubContent_SubContent_cardComponent0\" class=\"cardComponentContainer\">\\r\\n                    <table class=\"cardDetails\">\\r\\n                        <tr>\\r\\n                            <td id=\"ctl00_ctl00_ctl00_MainContent_SubContent_SubContent_leftColumn\" class=\"leftCol\" align=\"center\">\\r\\n                                <div class=\"cardImage\">\\r\\n                                    <img src=\"../../Handlers/Image.ashx?multiverseid=385786&amp;type=card\" id=\"ctl00_ctl00_ctl00_MainContent_SubContent_SubContent_cardImage\" alt=\"\\xd0\\x9a\\xd0\\xbe\\xd1\\x80\\xd0\\xbe\\xd1\\x81\\xd1\\x82\\xd0\\xb0\" style=\"border:none;border-radius:13px;-webkit-border-radius:13px;-moz-border-radius:13px;\" />\\r\\n                                </div>\\r\\n                                \\r\\n                                <div class=\"variations\">\\r\\n                                    &nbsp;\\r\\n                                    \\r\\n                                </div>\\r\\n                            \\r\\n                                <div class=\"CommunityRatings\">\\r\\n                                    <div id=\"ctl00_ctl00_ctl00_MainContent_SubContent_SubContent_playerRatingRow\">\\r\\n                                        <div class=\"label\" style=\"width: 100%; line-height: 30px;\">\\r\\n                                            <span id=\"ctl00_ctl00_ctl00_MainContent_SubContent_SubContent_Label1\">Community Rating:</span></div>\\r\\n                                        <div class=\"value\">\\r\\n                                            <span id=\"ctl00_ctl00_ctl00_MainContent_SubContent_SubContent_ratingResult\" class=\"ratingResult\" style=\"float: right;\"></span>\\r\\n                                            <div class=\"stars\">\\r\\n                                                <div id=\"ctl00_ctl00_ctl00_MainContent_SubContent_SubContent_currentRating_starRating\" class=\"starRating\"><img src=\"../../Images/Stars/LeftSolid.png\" alt=\"0.5\" /><img src=\"../../Images/Stars/RightSolid.png\" alt=\"1.0\" /><img src=\"../../Images/Stars/LeftSolid.png\" alt=\"1.5\" /><img src=\"../../Images/Stars/RightSolid.png\" alt=\"2.0\" /><img src=\"../../Images/Stars/LeftSolid.png\" alt=\"2.5\" /><img src=\"../../Images/Stars/RightSolid.png\" alt=\"3.0\" /><img src=\"../../Images/Stars/LeftSolid.png\" alt=\"3.5\" /><img src=\"../../Images/Stars/RightSolid.png\" alt=\"4.0\" /><img src=\"../../Images/Stars/LeftSolid.png\" alt=\"4.5\" /><img src=\"../../Images/Stars/RightSolid.png\" alt=\"5.0\" />\\r\\n    <br/>\\r\\n    <div id=\"ctl00_ctl00_ctl00_MainContent_SubContent_SubContent_currentRating_textRatingContainer\" class=\"textRating\">\\r\\n        <span>Community Rating:</span> <span id=\"ctl00_ctl00_ctl00_MainContent_SubContent_SubContent_currentRating_textRating\" class=\"textRatingValue\">5</span> / 5&nbsp;&nbsp;(<span id=\"ctl00_ctl00_ctl00_MainContent_SubContent_SubContent_currentRating_totalVotes\" class=\"totalVotesValue\">0</span><span id=\"ctl00_ctl00_ctl00_MainContent_SubContent_SubContent_currentRating_extraVoteInfo\"> votes</span>)</div>\\r\\n</div>\\r\\n\\r\\n                                            </div>\\r\\n                                        </div>\\r\\n                                    </div>\\r\\n                                    <div style=\"padding-left: 5px; font-size: .85em; position: relative; width: 100%;\\r\\n                                        text-align: center; z-index: 9999;\">\\r\\n                                        <a href=\"/Pages/Card/Discussion.aspx?multiverseid=385786\" id=\"ctl00_ctl00_ctl00_MainContent_SubContent_SubContent_discussionLink\">\\r\\n                                        Click\\r\\n                                            here\\r\\n                                        to view ratings and comments.\\r\\n                                        </a>\\r\\n                                        </div>\\r\\n                                </div>\\r\\n                            \\r\\n                            </td>\\r\\n\\r\\n                        \\r\\n                          \\r\\n\\r\\n                            \\r\\n                       \\r\\n                            <td id=\"ctl00_ctl00_ctl00_MainContent_SubContent_SubContent_rightCol\" class=\"rightCol\">\\r\\n                                <div class=\"smallGreyMono rightColHeader\">\\r\\n                                    <b class=\"ft\"><b></b></b>\\r\\n                                    <div style=\"font-size: 12pt; font-family: \\'open_sansregular\\';\">\\r\\n                                         <b><a id=\"cardTextSwitchLink1\" href=\\'/Pages/Card/Details.aspx?printed=false&multiverseid=385786\\' class=\"selected\" style=\"visibility:{0}\">Oracle</a></b>  <a id=\"cardTextSwitchLink2\" href=\\'/Pages/Card/Details.aspx?printed=true&multiverseid=385786\\' style=\"visibility:{0}\">Printed</a>\\r\\n                                        \\r\\n                                    </div>\\r\\n                                </div>\\r\\n                                <div class=\"smallGreyMono\" style=\"margin-top: 5px;\">\\r\\n                                    <b class=\"ft\"><b></b></b>\\r\\n                                    <div id=\"ctl00_ctl00_ctl00_MainContent_SubContent_SubContent_nameRow\" class=\"row\">\\r\\n                                        <div class=\"label\">\\r\\n                                            Card Name:</div>\\r\\n                                        <div class=\"value\">\\r\\n                                            Encrust</div>\\r\\n                                    </div>\\r\\n                                    <div id=\"ctl00_ctl00_ctl00_MainContent_SubContent_SubContent_manaRow\" class=\"row manaRow\">\\r\\n                                        <div class=\"label\" style=\"line-height: 25px;\">\\r\\n                                            Mana Cost:</div>\\r\\n                                        <div class=\"value\">\\r\\n                                            <img src=\"/Handlers/Image.ashx?size=medium&amp;name=1&amp;type=symbol\" alt=\"1\" align=\"absbottom\" /><img src=\"/Handlers/Image.ashx?size=medium&amp;name=U&amp;type=symbol\" alt=\"Blue\" align=\"absbottom\" /><img src=\"/Handlers/Image.ashx?size=medium&amp;name=U&amp;type=symbol\" alt=\"Blue\" align=\"absbottom\" /></div>\\r\\n                                    </div>\\r\\n                                    <div id=\"ctl00_ctl00_ctl00_MainContent_SubContent_SubContent_cmcRow\" class=\"row\">\\r\\n                                        <div class=\"label\" style=\"font-size: .7em;\">\\r\\n                                            Converted Mana Cost:</div>\\r\\n                                        <div class=\"value\">\\r\\n                                            3</div>\\r\\n                                    </div>\\r\\n                                    <div id=\"ctl00_ctl00_ctl00_MainContent_SubContent_SubContent_typeRow\" class=\"row\">\\r\\n                                        <div class=\"label\">\\r\\n                                            Types:</div>\\r\\n                                        <div class=\"value\">\\r\\n                                            Enchantment  \\xe2\\x80\\x94 Aura</div>\\r\\n                                    </div>\\r\\n                                    <div id=\"ctl00_ctl00_ctl00_MainContent_SubContent_SubContent_textRow\" class=\"row\">\\r\\n                                        <div class=\"label\">\\r\\n                                            Card Text:</div>\\r\\n                                        <div class=\"value\">\\r\\n                                            <div class=\"cardtextbox\" style=\"padding-left:10px;\">Enchant artifact or creature</div><div class=\"cardtextbox\" style=\"padding-left:10px;\">Enchanted permanent doesn\\'t untap during its controller\\'s untap step and its activated abilities can\\'t be activated.</div></div>\\r\\n                                    </div>\\r\\n                                    <div id=\"ctl00_ctl00_ctl00_MainContent_SubContent_SubContent_flavorRow\" class=\"row\">\\r\\n                                        <div class=\"label\">\\r\\n                                            Flavor Text:</div>\\r\\n                                        <div id=\"ctl00_ctl00_ctl00_MainContent_SubContent_SubContent_FlavorText\" class=\"value\">\\r\\n                                            <div class=\"flavortextbox\">\\xc2\\xab\\xd0\\x9c\\xd0\\xbe\\xd1\\x80\\xd0\\xb5 \\xd0\\xb4\\xd0\\xb0\\xd1\\x80\\xd1\\x83\\xd0\\xb5\\xd1\\x82 \\xd1\\x81\\xd0\\xbb\\xd0\\xb0\\xd0\\xb1\\xd0\\xbe\\xd0\\xbc\\xd1\\x83 \\xd1\\x81\\xd0\\xb8\\xd0\\xbb\\xd1\\x83 \\xd1\\x81\\xd1\\x80\\xd0\\xb0\\xd0\\xb7\\xd0\\xb8\\xd1\\x82\\xd1\\x8c \\xd0\\xbc\\xd0\\xbe\\xd0\\xb3\\xd1\\x83\\xd1\\x87\\xd0\\xb5\\xd0\\xb3\\xd0\\xbe\\xc2\\xbb.\\r</div><div class=\\'flavortextbox\\'>\\xe2\\x80\\x94 \\xd0\\xa2\\xd0\\xb0\\xd0\\xbb\\xd1\\x80\\xd0\\xb0\\xd0\\xbd\\xd0\\xb4, \\xd0\\xbd\\xd0\\xb5\\xd0\\xb1\\xd0\\xb5\\xd1\\x81\\xd0\\xbd\\xd1\\x8b\\xd0\\xb9 \\xd0\\xb2\\xd1\\x8b\\xd0\\xb7\\xd1\\x8b\\xd0\\xb2\\xd0\\xb0\\xd1\\x82\\xd0\\xb5\\xd0\\xbb\\xd1\\x8c</div></div>\\r\\n                                    </div>\\r\\n                                    \\r\\n                                    \\r\\n                                    \\r\\n                                    <div id=\"ctl00_ctl00_ctl00_MainContent_SubContent_SubContent_setRow\" class=\"row\">\\r\\n                                        <div class=\"label\">\\r\\n                                            Expansion:</div>\\r\\n                                        <div class=\"value\">\\r\\n                                            <div id=\"ctl00_ctl00_ctl00_MainContent_SubContent_SubContent_currentSetSymbol\">\\r\\n\\t<a href=\"Details.aspx?multiverseid=385786\"><img title=\"Magic 2015 Core Set (Common)\" src=\"../../Handlers/Image.ashx?type=symbol&amp;set=M15&amp;size=small&amp;rarity=C\" alt=\"Magic 2015 Core Set (Common)\" align=\"absmiddle\" border=\"0\" /></a>\\r\\n                                                <a href=\"/Pages/Search/Default.aspx?action=advanced&amp;set=[%22Magic 2015 Core Set%22]\">Magic 2015 Core Set</a>\\r\\n                                            \\r\\n</div>\\r\\n                                        </div>\\r\\n                                    </div>\\r\\n                                    <div id=\"ctl00_ctl00_ctl00_MainContent_SubContent_SubContent_rarityRow\" class=\"row\">\\r\\n                                        <div class=\"label\">\\r\\n                                            Rarity:</div>\\r\\n                                        <div class=\"value\">\\r\\n                                            <span class=\\'common\\'>Common</span></div>\\r\\n                                    </div>\\r\\n                                    <div id=\"ctl00_ctl00_ctl00_MainContent_SubContent_SubContent_otherSetsRow\" class=\"row otherSetsRow\">\\r\\n                                        <div class=\"label\">\\r\\n                                            All Sets:</div>\\r\\n                                        <div class=\"value\">\\r\\n                                            <div id=\"ctl00_ctl00_ctl00_MainContent_SubContent_SubContent_otherSetsValue\">\\r\\n\\t\\r\\n                                            <div style=\"width:22px;display:inline-block;text-align:center;\"><a href=\"Details.aspx?multiverseid=278194\"><img title=\"Magic 2013 (Common)\" src=\"../../Handlers/Image.ashx?type=symbol&amp;set=M13&amp;size=small&amp;rarity=C\" alt=\"Magic 2013 (Common)\" align=\"absmiddle\" border=\"0\" style=\"max-width:21px;\" /></a></div><div style=\"width:22px;display:inline-block;text-align:center;\"><a href=\"Details.aspx?multiverseid=385786\"><img title=\"Magic 2015 Core Set (Common)\" src=\"../../Handlers/Image.ashx?type=symbol&amp;set=M15&amp;size=small&amp;rarity=C\" alt=\"Magic 2015 Core Set (Common)\" align=\"absmiddle\" border=\"0\" style=\"max-width:21px;\" /></a></div>\\r\\n</div>\\r\\n                                        </div>\\r\\n                                    </div>\\r\\n                                    <div id=\"ctl00_ctl00_ctl00_MainContent_SubContent_SubContent_numberRow\" class=\"row\">\\r\\n                                        <div class=\"label\">\\r\\n                                            Card Number:</div>\\r\\n                                        <div id=\"ctl00_ctl00_ctl00_MainContent_SubContent_SubContent_CardNumberValue\" class=\"value\">\\r\\n                                            53</div>\\r\\n                                    </div>\\r\\n                                    <div id=\"ctl00_ctl00_ctl00_MainContent_SubContent_SubContent_artistRow\" class=\"row\">\\r\\n                                        <div class=\"label\">\\r\\n                                            Artist:</div>\\r\\n                                        <div id=\"ctl00_ctl00_ctl00_MainContent_SubContent_SubContent_ArtistCredit\" class=\"value\">\\r\\n                                            <a href=\"/Pages/Search/Default.aspx?action=advanced&amp;artist=[%22Jason Felix%22]\">Jason Felix</a></div>\\r\\n                                    </div>\\r\\n                                    <div id=\"ctl00_ctl00_ctl00_MainContent_SubContent_SubContent_linkedRow\" class=\"row\">\\r\\n                                        <div class=\"label\">\\r\\n                                            </div>\\r\\n                                        <div id=\"ctl00_ctl00_ctl00_MainContent_SubContent_SubContent_Div2\" class=\"value\">\\r\\n                                            </div>\\r\\n                                    </div>\\r\\n                                    <b class=\"ff\"><b></b></b>\\r\\n                                </div>\\r\\n                                <div class=\"smallGreyMono\" style=\"margin-top: 10px;\">\\r\\n                                    <b class=\"ft\"><b></b></b><b class=\"ff\"><b></b></b>\\r\\n                                </div>\\r\\n                            </td>\\r\\n\\r\\n                        </tr>\\r\\n                   \\r\\n                        <tr id=\"ctl00_ctl00_ctl00_MainContent_SubContent_SubContent_rulingsRow\">\\r\\n\\t<td colspan=\"2\">\\r\\n                                <div class=\"smallGreyBorder\" style=\"position: relative; top: 10px;\">\\r\\n                                    <b class=\"at\"><b></b></b>\\r\\n                                    <div class=\"simpleRoundedBoxTitleGrey rulingsHeader\">\\r\\n                                        <span class=\"boldtitle\">\\r\\n                                            <span id=\"ctl00_ctl00_ctl00_MainContent_SubContent_SubContent_Label2\">Rulings</span></span></div>\\r\\n                                    <div class=\"discussion\">\\r\\n                                        <div id=\"ctl00_ctl00_ctl00_MainContent_SubContent_SubContent_rulingsContainer\" class=\"postContainer\">\\r\\n                                            <table class=\"rulingsTable\" cellpadding=\"0\" cellspacing=\"0\">\\r\\n                                                \\r\\n                                                        <tr class=\"post evenItem\" style=\"background-color: #3a3939;\">\\r\\n                                                            <td id=\"ctl00_ctl00_ctl00_MainContent_SubContent_SubContent_rulingsRepeater_ctl00_rulingDate\" style=\"width: 70px; padding-left: 10px; font-weight: bold;\">7/18/2014</td>\\r\\n\\t\\r\\n                                                            <td id=\"ctl00_ctl00_ctl00_MainContent_SubContent_SubContent_rulingsRepeater_ctl00_rulingText\" style=\"width: 610px; padding-right: 5px;\" class=\"rulingsText\">Static and triggered abilities are unaffected by Encrust.</td>\\r\\n\\t\\r\\n                                                        </tr>\\r\\n                                                    \\r\\n                                                        <tr style=\"background-color: rgba(255,255,366, 0.08);\" class=\"post oddItem\">\\r\\n                                                            <td id=\"ctl00_ctl00_ctl00_MainContent_SubContent_SubContent_rulingsRepeater_ctl01_rulingDate\" style=\"width: 70px; padding-left: 10px; font-weight: bold;\">7/18/2014</td>\\r\\n\\t\\r\\n                                                            <td id=\"ctl00_ctl00_ctl00_MainContent_SubContent_SubContent_rulingsRepeater_ctl01_rulingText\" style=\"width: 610px; padding-right: 5px;\" class=\"rulingsText\">The permanent can be untapped by other spells and abilities.</td>\\r\\n\\t\\r\\n                                                        </tr>\\r\\n                                                    \\r\\n                                                        <tr class=\"post evenItem\" style=\"background-color: #3a3939;\">\\r\\n                                                            <td id=\"ctl00_ctl00_ctl00_MainContent_SubContent_SubContent_rulingsRepeater_ctl02_rulingDate\" style=\"width: 70px; padding-left: 10px; font-weight: bold;\">6/8/2016</td>\\r\\n\\t\\r\\n                                                            <td id=\"ctl00_ctl00_ctl00_MainContent_SubContent_SubContent_rulingsRepeater_ctl02_rulingText\" style=\"width: 610px; padding-right: 5px;\" class=\"rulingsText\">Activated abilities contain a colon. They\\xe2\\x80\\x99re generally written \\xe2\\x80\\x9c[Cost]: [Effect].\\xe2\\x80\\x9d Some keywords are activated abilities and will have colons in their reminder text.</td>\\r\\n\\t\\r\\n                                                        </tr>\\r\\n                                                    \\r\\n                                            </table>\\r\\n                                        </div>\\r\\n                                    </div>\\r\\n                                    <b class=\"aa\"><b></b></b>\\r\\n                                </div>\\r\\n                            </td>\\r\\n</tr>\\r\\n\\r\\n                    </table>\\r\\n                </td>\\r\\n\\r\\n                <td id=\"ctl00_ctl00_ctl00_MainContent_SubContent_SubContent_cardComponent1\" class=\"cardComponentContainer\">\\r\\n                </td>\\r\\n\\r\\n            </tr>  \\r\\n        </table>\\r\\n    </div>\\r\\n\\r\\n            <div class=\"clear\"></div>\\r\\n            <div id=\"ctl00_ctl00_ctl00_MainContent_SubContent_bottomPagingControlsContainer\" class=\"paging bottom\">\\r\\n           \\r\\n               </div>\\r\\n            <b class=\"dd\"><b></b></b>\\r\\n        </div>\\r\\n    </div>\\r\\n   \\r\\n\\r\\n\\r\\n\\r\\n            </div>\\r\\n            <div class=\"rightContainer\">\\r\\n                \\r\\n            </div>\\r\\n        </div>\\r\\n    </div>\\r\\n    <div id=\"ctl00_ctl00_ctl00_backgroundBottom\" class=\"backgroundBottom\">\\r\\n        <img class=\"shadowImg\" src=\"/images/Redesign/Shadow.png\" />\\r\\n        \\r\\n        <div id=\"ctl00_ctl00_ctl00_footer\" class=\"footer\">\\r\\n            <div class=\"topBanner\" id=\"TopBannerAdvertisement\">\\r\\n                <style> #separator3 { top: 40px; } </style>\\r\\n                <a href=\"https://magic.wizards.com/\" target=\"_blank\" id=\"footerUrl\">\\r\\n                    <img src=\"//media.wizards.com/2021/images/magic/gatherer/footerbanner.jpg\">\\r\\n                </a>            \\r\\n            </div>\\r\\n            <div class=\"footerLinks\">\\r\\n            <a href=\"../TermsOfUse.aspx\" id=\"ctl00_ctl00_ctl00_A5\">Terms of Use</a>\\r\\n            <a href=\"../PrivacyPolicy.aspx\" id=\"ctl00_ctl00_ctl00_A6\">Privacy Policy</a>\\r\\n            <a href=\"../CodeOfConduct.aspx\" id=\"ctl00_ctl00_ctl00_A7\">Code of Conduct</a>\\r\\n            <a href=\"http://www.magicthegathering.com\" style=\"color: #ffffff;\">Magicthegathering.com</a>\\r\\n            <a href=\"https://magic.wizards.com/en/content/magic-online-products-game-info\" style=\"color: #ffffff;\">\\r\\n                Magic: The Gathering Online</a><a href=\"../Settings.aspx\" id=\"ctl00_ctl00_ctl00_A1\" style=\"color: #ffffff;\">\\r\\n                    <span id=\"ctl00_ctl00_ctl00_Label1\">Settings</span></a>\\r\\n            <a href=\"../Language.aspx\" id=\"ctl00_ctl00_ctl00_A2\" style=\"color: #ffffff;\">\\r\\n                <span id=\"ctl00_ctl00_ctl00_Label2\">Language</span></a>\\r\\n\\t\\t\\t<a href=\"../LearnMore.aspx\" id=\"ctl00_ctl00_ctl00_A4\" style=\"color: #ffffff;\">\\r\\n                <span id=\"ctl00_ctl00_ctl00_Label4\">Cookies</span></a>\\r\\n            <a href=\"../Help.aspx\" id=\"ctl00_ctl00_ctl00_A3\" style=\"color: #ffffff;\">\\r\\n                <span id=\"ctl00_ctl00_ctl00_Label3\">Help</span></a>\\r\\n            \\r\\n            </div>\\r\\n            <div class=\"wizardsFooterSection\">\\r\\n                &copy; 1995 -\\r\\n                2022\\r\\n                <a href=\"https://company.wizards.com\" style=\"color: #898989;\">Wizards of the Coast</a>\\r\\n                LLC, a subsidiary of Hasbro, Inc. All Rights Reserved.\\r\\n            </div>\\r\\n            <div class=\"brandingContainer\">\\r\\n                <img class=\"hasbrologo\" src=\"/images/Redesign/hasbro_logo.png\" />\\r\\n                <img class=\"wizardsfrontLogo\" src=\"/images/Redesign/wizards_logo.png\" />\\r\\n            </div>\\r\\n        </div>\\r\\n        <span class=\"smalldate\"></span>\\r\\n    </div>\\r\\n    \\r\\n<script language=\"javascript\" type=\"text/javascript\">\\r\\n    var wotcAccountWidget = { init: function() { return false; } }; \\r\\n    HandleReportPost = function(a, b) { \\r\\n        window.location = \"http://wizards.custhelp.com/cgi-bin/wizards.cfg/php/enduser/ask.php?p_prods=522,706,739&amp;p_cats=\";\\r\\n            }</script></form>\\r\\n\\t    <!-- popup-->\\r\\n    <div class=\"overly\"></div>\\r\\n    <div class=\"gatherer-popup\">\\r\\n        <p>Gatherer works better in the Companion app!</p>\\r\\n        <div>\\r\\n           <a href=\"https://play.google.com/store/apps/details?id=com.wizards.winter_orb\" class=\"play-store-btn\"></a>\\r\\n           <a href=\"https://apps.apple.com/us/app/magic-the-gathering-companion/id1455161962\" class=\"app-store-btn\"></a>\\r\\n           <span  class=\"back-store-btn\">Continue</span>\\r\\n        </div>\\r\\n    </div>\\r\\n    <!-- -->\\r\\n\\r\\n    <script type=\"text/javascript\">\\r\\n\\r\\n      window.onload = function() {\\r\\n          var system = getMobileOperatingSystem();\\r\\n          if (system === \\'Android\\' && !sessionStorage.getItem(\"popupvisible\") === true ) {\\r\\n              jQuery(\\'body\\').css(\\'overflow\\', \\'hidden\\')\\r\\n              jQuery(\\'.overly\\').css(\\'display\\', \\'block\\')\\r\\n              jQuery(\\'.gatherer-popup\\').css(\\'display\\', \\'block\\')\\r\\n              jQuery(\\'.play-store-btn\\').css(\\'display\\', \\'inline-block\\')\\r\\n              jQuery(\\'.app-store-btn\\').css(\\'display\\', \\'none\\')\\r\\n              jQuery(\\'.gatherer-popup\\').click() //do search focus remove\\r\\n          }\\r\\n          else if (system === \\'iOS\\' && !sessionStorage.getItem(\"popupvisible\") === true ) {\\r\\n              jQuery(\\'body\\').css(\\'overflow\\', \\'hidden\\')\\r\\n              jQuery(\\'.overly\\').css(\\'display\\', \\'block\\')\\r\\n              jQuery(\\'.gatherer-popup\\').css(\\'display\\', \\'block\\')\\r\\n              jQuery(\\'.app-store-btn\\').css(\\'display\\', \\'inline-block\\')\\r\\n              jQuery(\\'.play-store-btn\\').css(\\'display\\', \\'none\\')\\r\\n              jQuery(\\'.gatherer-popup\\').click()\\r\\n          }\\r\\n\\t\\t  else {\\r\\n              jQuery(\\'body\\').css(\\'overflow\\', \\'visible\\')\\r\\n              jQuery(\\'.overly\\').css(\\'display\\', \\'none\\')\\r\\n              jQuery(\\'.gatherer-popup\\').css(\\'display\\', \\'none\\')\\r\\n          }\\r\\n       };\\r\\n      jQuery(\\'.back-store-btn\\').on(\\'click\\', function () {\\r\\n          jQuery(\\'body\\').css(\\'overflow\\', \\'visible\\')\\r\\n          jQuery(\\'.overly\\').css(\\'display\\', \\'none\\')\\r\\n          jQuery(\\'.gatherer-popup\\').css(\\'display\\', \\'none\\')\\r\\n          sessionStorage.setItem(\"popupvisible\", true); //do search focus remove\\r\\n        })\\r\\n            function getMobileOperatingSystem() {\\r\\n                var userAgent = navigator.userAgent || navigator.vendor || window.opera;\\r\\n                // Windows Phone must come first because its UA also contains \"Android\"\\r\\n                if (/windows phone/i.test(userAgent)) {\\r\\n                    return \"Windows Phone\";\\r\\n                }\\r\\n                if (/android/i.test(userAgent)) {\\r\\n                    return \"Android\";\\r\\n                }\\r\\n                // iOS detection\\r\\n                if (/iPad|iPhone|iPod/.test(userAgent) && !window.MSStream) {\\r\\n                    return \"iOS\";\\r\\n                }\\r\\n                return \"unknown\";\\r\\n            }\\r\\n\\r\\n            function removeAllCookiesBeforeConsent () {\\r\\n                const allCookies = [\\r\\n                    { name: \\'BIGipServeraccounts2.wizards.com_80\\', domain: \\'accounts.wizards.com\\' },\\r\\n                    { name: \\'CardDatabaseSettings\\', domain: \\'.\\' + document.domain },\\r\\n                    { name: \\'Language\\', domain: \\'accounts.wizards.com\\' },\\r\\n                    { name: \\'__utma\\', domain: \\'wizards.com\\' },\\r\\n                    { name: \\'__utmb\\', domain: \\'wizards.com\\' },\\r\\n                    { name: \\'__utmc\\', domain: \\'wizards.com\\' },\\r\\n                    { name: \\'__utmz\\', domain: \\'wizards.com\\' },\\r\\n                    { name: \\'__utmt\\', domain: \\'wizards.com\\' },\\r\\n                    { name: \\'rootAuth\\', domain: \\'wizards.com\\' },\\r\\n                    { name: \\'RT\\', domain: \\'wizards.com\\' },\\r\\n                    { name: \\'_ga\\', domain: \\'wizards.com\\' },\\r\\n                    { name: \\'_gid\\', domain: \\'wizards.com\\' },\\r\\n                    { name: \\'accounts.wizards.com\\', domain: \\'accounts.wizards.com\\' },\\r\\n                    { name: \\'flagsSet\\', domain: \\'accounts.wizards.com\\' },\\r\\n                    { name: \\'1P_JAR\\', domain: \\'google.com\\' },\\r\\n                    { name: \\'NID\\', domain: \\'google.com\\' }\\r\\n                ]\\r\\n                for (let i = 0; i < allCookies.length; i++) {\\r\\n                    const cookie = allCookies[i]\\r\\n                    const a = jQuery.removeCookie(cookie.name, { path: \\'/\\', domain: cookie.domain })\\r\\n                }\\r\\n            }\\r\\n\\t\\t\\t\\r\\n        jQuery(window).on(\\'load\\',function(){\\r\\n          removeAllCookiesBeforeConsent()\\r\\n        })\\r\\n\\t\\t\\r\\n    </script>\\r\\n\\t<script>\\r\\n    var oldBanner = document.body.childNodes[1];\\r\\n    if (oldBanner.innerText.startsWith(\\'This site uses cookies\\')) \\r\\n        {\\r\\n            document.body.removeChild(document.body.childNodes[1]);\\r\\n        }\\r\\n    </script>\\r\\n</body>\\r\\n</html>\\r\\n'"
            ]
          },
          "metadata": {},
          "execution_count": 113
        }
      ]
    },
    {
      "cell_type": "code",
      "source": [
        "html = html.decode('utf-8')"
      ],
      "metadata": {
        "id": "M0IJkqWNXG0t"
      },
      "execution_count": null,
      "outputs": []
    },
    {
      "cell_type": "code",
      "source": [
        "def trata_html(input):\n",
        "    return \" \".join(input.split()).replace('> <', '><')"
      ],
      "metadata": {
        "id": "7bT3o4jQXm24"
      },
      "execution_count": null,
      "outputs": []
    },
    {
      "cell_type": "code",
      "source": [
        "html = trata_html(html)\n",
        "html"
      ],
      "metadata": {
        "colab": {
          "base_uri": "https://localhost:8080/",
          "height": 140
        },
        "id": "eCwG1yK9Xudh",
        "outputId": "ead64dc4-63f3-488d-f44d-70f81f0ecf4e"
      },
      "execution_count": null,
      "outputs": [
        {
          "output_type": "execute_result",
          "data": {
            "application/vnd.google.colaboratory.intrinsic+json": {
              "type": "string"
            },
            "text/plain": [
              "'<?xml version=\"1.0\" encoding=\"utf-8\" ?><!DOCTYPE html PUBLIC \"-//W3C//DTD XHTML 1.0 Strict//EN\" \"http://www.w3.org/TR/xhtml1/DTD/xhtml1-strict.dtd\"><html xmlns=\"http://www.w3.org/1999/xhtml\"><head><meta http-equiv=\"X-UA-Compatible\" content=\"IE=edge\" /><title> Короста (Magic 2015 Core Set) - Gatherer - Magic: The Gathering </title><link rel=\"shortcut icon\" href=\"/Images/favicon.ico\" /><meta name=\"description\" content=\"Gatherer is the Magic Card Database. Search for the perfect addition to your deck. Browse through cards from Magic\\'s entire history. See cards from the most recent sets and discover what players just like you are saying about them.\" /><meta name=\"keywords\" content=\"monitor, gatherer, magic cards, magic the gathering, black lotus, magic: the gathering, wizards of the coast, wizards, trading card game, trading cards, collectible card game, tcg, ccg, magic sets, game, multiplayer, hobby\" /><meta name=\"theme-color\" content=\"#191919\" /><meta name=\"msapplication-TileColor\" content=\"#191919\" /><link id=\"ctl00_ctl00_ctl00_mobileStylesheetsMobile\" rel=\"stylesheet\" href=\"/Styles/Styles_Mobile.css?time=-1362339963\" media=\"(max-width:749px)\" /><link id=\"ctl00_ctl00_ctl00_mobileStylesheetsDesktop\" rel=\"stylesheet\" href=\"/Styles/Styles_Desktop.css?time=-1362339963\" media=\"(min-width:750px)\" /><meta id=\"ctl00_ctl00_ctl00_mobileMeta\" name=\"viewport\" content=\"width=device-width, initial-scale=1\" /><link rel=\"stylesheet\" href=\"../../Styles/fonts/opensans_regular_macroman/regular.css\" type=\"text/css\" charset=\"utf-8\" /><link rel=\"stylesheet\" href=\"../../Styles/fonts/opensans_semibold_macroman/semibold.css\" type=\"text/css\" charset=\"utf-8\" /><link rel=\"stylesheet\" href=\"../../Styles/fonts/opensans_bold_macroman/bold.css\" type=\"text/css\" charset=\"utf-8\" /><link rel=\"stylesheet\" href=\"../../Styles/fonts/Beleren/Beleren-Bold.css\" type=\"text/css\" /><!-- google analytics --><script type=\"text/javascript\"> var gaJsHost = ((\"https:\" == document.location.protocol) ? \"https://ssl.\" : \"http://www.\"); document.write(unescape(\"%3Cscript src=\\'\" + gaJsHost + \"google-analytics.com/ga.js\\' type=\\'text/javascript\\'%3E%3C/script%3E\")); </script><script type=\"text/javascript\"> try { var pageTracker = _gat._getTracker(\"UA-15020098-7\"); pageTracker._setDomainName(\".wizards.com\"); pageTracker._trackPageview(); } catch (err) { } </script><script type=\"text/javascript\" src=\"https://ajax.googleapis.com/ajax/libs/jquery/1.7.2/jquery.min.js\"></script><script type=\"text/javascript\" src=\"//media.wizards.com/2018/images/magic/gatherer/popularsearch.js\"></script><script language=\"javascript\" type=\"text/javascript\" src=\"/Scripts/Login.js\"></script><!--Cookie Banner supplied by Haven start--><script type=\"text/javascript\" src=\"/Scripts/jquery.cookie.js\"></script><!--Cookie Banner supplied by Haven end--><script src=\"../Scripts/GathererCookie.js\" type=\"text/javascript\"></script></head><body><script type=\"text/javascript\"> jQuery.noConflict(); jQuery(document).ready(function() { if (typeof wotcAccountWidget !== \"undefined\") { wotcAccountWidget.init(false, \"screenname\", null, OnLoggedIn, OnLoginCanceled, OnLoggedOut, null, true, true, true, true); } }); </script><form name=\"aspnetForm\" method=\"post\" action=\"Details.aspx?printed=false&amp;multiverseid=385786\" id=\"aspnetForm\" onclick=\"\"><input type=\"hidden\" name=\"__VIEWSTATE\" id=\"__VIEWSTATE\" value=\"/wEPDwULLTE0MDA5NDYzOTdkZAI2a0Q66yiOieYsfet60eq7AS/6\" /><script src=\"../../Scripts/Prototype.js\" type=\"text/javascript\"></script><script src=\"../../Scripts/Utilities.js\" type=\"text/javascript\"></script><script type=\"text/javascript\"> //<![CDATA[ var cardSearchPage = \\'/Pages/Search/Default.aspx\\'; var UtilitiesHandler = \\'/Handlers/RPCUtilities.ashx\\'; var leftStar = \\'../../Images/Stars/LeftSolid.png\\'; var leftStarClear = \\'../../Images/Stars/LeftClear.png\\'; var leftStarSelected = \\'../../Images/Stars/LeftSelected.png\\'; var rightStar = \\'../../Images/Stars/RightSolid.png\\'; var rightStarClear = \\'../../Images/Stars/RightClear.png\\'; var rightStarSelected = \\'../../Images/Stars/RightSelected.png\\'; var utilitiesHandler = \\'../../Handlers/RPCUtilities.ashx\\'; var CardDatabaseSettings = \\'CardDatabaseSettings\\'; var SelectingCardAction = \\'NavigatesToCard\\'; var inlineCardSearchHandler = \\'/Handlers/InlineCardSearch.ashx\\'; var autoCompleteGroupBy = \\'None\\'; var imageHandler = \\'/Handlers/Image.ashx\\'; var cardDetailsPage = \\'/Pages/Card/Details.aspx\\'; var enableCardSearchAutoComplete = true; var enableHintText = true; var enableCardSearchAutoCompleteIfNameUnchecked = false; function ClientIDs() {} ClientIDs.mobileStylesheetsMobile = \\'ctl00_ctl00_ctl00_mobileStylesheetsMobile\\'; ClientIDs.mobileStylesheetsDesktop = \\'ctl00_ctl00_ctl00_mobileStylesheetsDesktop\\'; ClientIDs.mobileMeta = \\'ctl00_ctl00_ctl00_mobileMeta\\'; ClientIDs.nonmobileStylesheetsDesktop = \\'ctl00_ctl00_ctl00_nonmobileStylesheetsDesktop\\'; ClientIDs.MainForm = \\'aspnetForm\\'; ClientIDs.bannerHeader = \\'ctl00_ctl00_ctl00_bannerHeader\\'; ClientIDs.altHead = \\'ctl00_ctl00_ctl00_altHead\\'; ClientIDs.gobacktohome = \\'ctl00_ctl00_ctl00_gobacktohome\\'; ClientIDs.SearchControls = \\'ctl00_ctl00_ctl00_SearchControls\\'; ClientIDs.SearchBoxContainer = \\'ctl00_ctl00_ctl00_SearchControls_SearchBoxContainer\\'; ClientIDs.CardSearchBoxParent = \\'ctl00_ctl00_ctl00_SearchControls_CardSearchBoxParent\\'; ClientIDs.HeaderCardSearchBox = \\'ctl00_ctl00_ctl00_SearchControls_CardSearchBoxParent_HeaderCardSearchBox\\'; ClientIDs.headerSearchSubmitButton = \\'ctl00_ctl00_ctl00_SearchControls_headerSearchSubmitButton\\'; ClientIDs.HeaderSearchBoxResults = \\'ctl00_ctl00_ctl00_SearchControls_HeaderSearchBoxResults\\'; ClientIDs.HeaderSearchBoxResultsContent = \\'ctl00_ctl00_ctl00_SearchControls_HeaderSearchBoxResultsContent\\'; ClientIDs.HeaderAllResultsLink = \\'ctl00_ctl00_ctl00_SearchControls_HeaderAllResultsLink\\'; ClientIDs.Simple = \\'ctl00_ctl00_ctl00_Simple\\'; ClientIDs.Advanced = \\'ctl00_ctl00_ctl00_Advanced\\'; ClientIDs.Random = \\'ctl00_ctl00_ctl00_Random\\'; ClientIDs.MainContainer = \\'ctl00_ctl00_ctl00_MainContainer\\'; ClientIDs.gathererIntroText = \\'ctl00_ctl00_ctl00_gathererIntroText\\'; ClientIDs.MainContent = \\'ctl00_ctl00_ctl00_MainContent\\'; ClientIDs.NavigationLinks = \\'ctl00_ctl00_ctl00_MainContent_NavigationLinks\\'; ClientIDs.NavigationAnchorsContainer = \\'ctl00_ctl00_ctl00_MainContent_NavigationLinks_NavigationAnchorsContainer\\'; ClientIDs.Settings = \\'ctl00_ctl00_ctl00_MainContent_NavigationLinks_Settings\\'; ClientIDs.Language = \\'ctl00_ctl00_ctl00_MainContent_NavigationLinks_Language\\'; ClientIDs.Help = \\'ctl00_ctl00_ctl00_MainContent_NavigationLinks_Help\\'; ClientIDs.Configuration = \\'ctl00_ctl00_ctl00_MainContent_NavigationLinks_Configuration\\'; ClientIDs.SubContent = \\'ctl00_ctl00_ctl00_MainContent_SubContent\\'; ClientIDs.SubContentHeader = \\'ctl00_ctl00_ctl00_MainContent_SubContent_SubContentHeader\\'; ClientIDs.subtitleDisplay = \\'ctl00_ctl00_ctl00_MainContent_SubContent_SubContentHeader_subtitleDisplay\\'; ClientIDs.SubContentAnchors = \\'ctl00_ctl00_ctl00_MainContent_SubContent_SubContentAnchors\\'; ClientIDs.DetailsAnchors = \\'ctl00_ctl00_ctl00_MainContent_SubContent_SubContentAnchors_DetailsAnchors\\'; ClientIDs.ContentNavigationControlsContainer = \\'ctl00_ctl00_ctl00_MainContent_SubContent_SubContentAnchors_DetailsAnchors_ContentNavigationControlsContainer\\'; ClientIDs.Details = \\'ctl00_ctl00_ctl00_MainContent_SubContent_SubContentAnchors_DetailsAnchors_Details\\'; ClientIDs.DetailsLink = \\'ctl00_ctl00_ctl00_MainContent_SubContent_SubContentAnchors_DetailsAnchors_DetailsLink\\'; ClientIDs.Label3 = \\'ctl00_ctl00_ctl00_MainContent_SubContent_SubContentAnchors_DetailsAnchors_Label3\\'; ClientIDs.Printings = \\'ctl00_ctl00_ctl00_MainContent_SubContent_SubContentAnchors_DetailsAnchors_Printings\\'; ClientIDs.PrintingsLink = \\'ctl00_ctl00_ctl00_MainContent_SubContent_SubContentAnchors_DetailsAnchors_PrintingsLink\\'; ClientIDs.Label2 = \\'ctl00_ctl00_ctl00_MainContent_SubContent_SubContentAnchors_DetailsAnchors_Label2\\'; ClientIDs.Languages = \\'ctl00_ctl00_ctl00_MainContent_SubContent_SubContentAnchors_DetailsAnchors_Languages\\'; ClientIDs.LanguagesLink = \\'ctl00_ctl00_ctl00_MainContent_SubContent_SubContentAnchors_DetailsAnchors_LanguagesLink\\'; ClientIDs.Label1 = \\'ctl00_ctl00_ctl00_MainContent_SubContent_SubContentAnchors_DetailsAnchors_Label1\\'; ClientIDs.Discussion = \\'ctl00_ctl00_ctl00_MainContent_SubContent_SubContentAnchors_DetailsAnchors_Discussion\\'; ClientIDs.DiscussionLink = \\'ctl00_ctl00_ctl00_MainContent_SubContent_SubContentAnchors_DetailsAnchors_DiscussionLink\\'; ClientIDs.Artwork = \\'ctl00_ctl00_ctl00_MainContent_SubContent_SubContentAnchors_DetailsAnchors_Artwork\\'; ClientIDs.ArtworkLink = \\'ctl00_ctl00_ctl00_MainContent_SubContent_SubContentAnchors_DetailsAnchors_ArtworkLink\\'; ClientIDs.topPagingControlsContainer = \\'ctl00_ctl00_ctl00_MainContent_SubContent_topPagingControlsContainer\\'; ClientIDs.cardAdminControls = \\'ctl00_ctl00_ctl00_MainContent_SubContent_SubContent_cardAdminControls\\'; ClientIDs.editLink = \\'ctl00_ctl00_ctl00_MainContent_SubContent_SubContent_editLink\\'; ClientIDs.cardComponent0 = \\'ctl00_ctl00_ctl00_MainContent_SubContent_SubContent_cardComponent0\\'; ClientIDs.leftColumn = \\'ctl00_ctl00_ctl00_MainContent_SubContent_SubContent_leftColumn\\'; ClientIDs.imagePlaceHolder = \\'ctl00_ctl00_ctl00_MainContent_SubContent_SubContent_imagePlaceHolder\\'; ClientIDs.cardImage = \\'ctl00_ctl00_ctl00_MainContent_SubContent_SubContent_cardImage\\'; ClientIDs.specialCaseBreaker = \\'ctl00_ctl00_ctl00_MainContent_SubContent_SubContent_specialCaseBreaker\\'; ClientIDs.otherVariations = \\'ctl00_ctl00_ctl00_MainContent_SubContent_SubContent_otherVariations\\'; ClientIDs.variationLinks = \\'ctl00_ctl00_ctl00_MainContent_SubContent_SubContent_variationLinks\\'; ClientIDs.playerRatingRow = \\'ctl00_ctl00_ctl00_MainContent_SubContent_SubContent_playerRatingRow\\'; ClientIDs.ratingResult = \\'ctl00_ctl00_ctl00_MainContent_SubContent_SubContent_ratingResult\\'; ClientIDs.currentRating = \\'ctl00_ctl00_ctl00_MainContent_SubContent_SubContent_currentRating\\'; ClientIDs.starRating = \\'ctl00_ctl00_ctl00_MainContent_SubContent_SubContent_currentRating_starRating\\'; ClientIDs.textRatingContainer = \\'ctl00_ctl00_ctl00_MainContent_SubContent_SubContent_currentRating_textRatingContainer\\'; ClientIDs.textRating = \\'ctl00_ctl00_ctl00_MainContent_SubContent_SubContent_currentRating_textRating\\'; ClientIDs.totalVotes = \\'ctl00_ctl00_ctl00_MainContent_SubContent_SubContent_currentRating_totalVotes\\'; ClientIDs.extraVoteInfo = \\'ctl00_ctl00_ctl00_MainContent_SubContent_SubContent_currentRating_extraVoteInfo\\'; ClientIDs.discussionLink = \\'ctl00_ctl00_ctl00_MainContent_SubContent_SubContent_discussionLink\\'; ClientIDs.Literal1 = \\'ctl00_ctl00_ctl00_MainContent_SubContent_SubContent_Literal1\\'; ClientIDs.Literal2 = \\'ctl00_ctl00_ctl00_MainContent_SubContent_SubContent_Literal2\\'; ClientIDs.Literal3 = \\'ctl00_ctl00_ctl00_MainContent_SubContent_SubContent_Literal3\\'; ClientIDs.specialCaseLayoutBreakers = \\'ctl00_ctl00_ctl00_MainContent_SubContent_SubContent_specialCaseLayoutBreakers\\'; ClientIDs.rightCol = \\'ctl00_ctl00_ctl00_MainContent_SubContent_SubContent_rightCol\\'; ClientIDs.cardWordingSwitch = \\'ctl00_ctl00_ctl00_MainContent_SubContent_SubContent_cardWordingSwitch\\'; ClientIDs.cardParts = \\'ctl00_ctl00_ctl00_MainContent_SubContent_SubContent_cardParts\\'; ClientIDs.nameRow = \\'ctl00_ctl00_ctl00_MainContent_SubContent_SubContent_nameRow\\'; ClientIDs.nameLabel = \\'ctl00_ctl00_ctl00_MainContent_SubContent_SubContent_nameLabel\\'; ClientIDs.nameValue = \\'ctl00_ctl00_ctl00_MainContent_SubContent_SubContent_nameValue\\'; ClientIDs.manaRow = \\'ctl00_ctl00_ctl00_MainContent_SubContent_SubContent_manaRow\\'; ClientIDs.manacostLabel = \\'ctl00_ctl00_ctl00_MainContent_SubContent_SubContent_manacostLabel\\'; ClientIDs.manacostValue = \\'ctl00_ctl00_ctl00_MainContent_SubContent_SubContent_manacostValue\\'; ClientIDs.cmcRow = \\'ctl00_ctl00_ctl00_MainContent_SubContent_SubContent_cmcRow\\'; ClientIDs.cmcLabel = \\'ctl00_ctl00_ctl00_MainContent_SubContent_SubContent_cmcLabel\\'; ClientIDs.cmcValue = \\'ctl00_ctl00_ctl00_MainContent_SubContent_SubContent_cmcValue\\'; ClientIDs.typeRow = \\'ctl00_ctl00_ctl00_MainContent_SubContent_SubContent_typeRow\\'; ClientIDs.typeLineLabel = \\'ctl00_ctl00_ctl00_MainContent_SubContent_SubContent_typeLineLabel\\'; ClientIDs.typeLineValue = \\'ctl00_ctl00_ctl00_MainContent_SubContent_SubContent_typeLineValue\\'; ClientIDs.textRow = \\'ctl00_ctl00_ctl00_MainContent_SubContent_SubContent_textRow\\'; ClientIDs.cardTextLabel = \\'ctl00_ctl00_ctl00_MainContent_SubContent_SubContent_cardTextLabel\\'; ClientIDs.cardTextValue = \\'ctl00_ctl00_ctl00_MainContent_SubContent_SubContent_cardTextValue\\'; ClientIDs.flavorRow = \\'ctl00_ctl00_ctl00_MainContent_SubContent_SubContent_flavorRow\\'; ClientIDs.flavorTextLabel = \\'ctl00_ctl00_ctl00_MainContent_SubContent_SubContent_flavorTextLabel\\'; ClientIDs.FlavorText = \\'ctl00_ctl00_ctl00_MainContent_SubContent_SubContent_FlavorText\\'; ClientIDs.flavorTextValue = \\'ctl00_ctl00_ctl00_MainContent_SubContent_SubContent_flavorTextValue\\'; ClientIDs.markRow = \\'ctl00_ctl00_ctl00_MainContent_SubContent_SubContent_markRow\\'; ClientIDs.markTextLabel = \\'ctl00_ctl00_ctl00_MainContent_SubContent_SubContent_markTextLabel\\'; ClientIDs.Watermark = \\'ctl00_ctl00_ctl00_MainContent_SubContent_SubContent_Watermark\\'; ClientIDs.markTextValue = \\'ctl00_ctl00_ctl00_MainContent_SubContent_SubContent_markTextValue\\'; ClientIDs.colorIndicatorRow = \\'ctl00_ctl00_ctl00_MainContent_SubContent_SubContent_colorIndicatorRow\\'; ClientIDs.colorIndicatorLabel = \\'ctl00_ctl00_ctl00_MainContent_SubContent_SubContent_colorIndicatorLabel\\'; ClientIDs.colorIndicatorValue = \\'ctl00_ctl00_ctl00_MainContent_SubContent_SubContent_colorIndicatorValue\\'; ClientIDs.ptRow = \\'ctl00_ctl00_ctl00_MainContent_SubContent_SubContent_ptRow\\'; ClientIDs.bottomNumbersLabel = \\'ctl00_ctl00_ctl00_MainContent_SubContent_SubContent_bottomNumbersLabel\\'; ClientIDs.bottomNumbersValue = \\'ctl00_ctl00_ctl00_MainContent_SubContent_SubContent_bottomNumbersValue\\'; ClientIDs.setRow = \\'ctl00_ctl00_ctl00_MainContent_SubContent_SubContent_setRow\\'; ClientIDs.setLabel = \\'ctl00_ctl00_ctl00_MainContent_SubContent_SubContent_setLabel\\'; ClientIDs.currentSetSymbol = \\'ctl00_ctl00_ctl00_MainContent_SubContent_SubContent_currentSetSymbol\\'; ClientIDs.setValue = \\'ctl00_ctl00_ctl00_MainContent_SubContent_SubContent_setValue\\'; ClientIDs.rarityRow = \\'ctl00_ctl00_ctl00_MainContent_SubContent_SubContent_rarityRow\\'; ClientIDs.rarityLabel = \\'ctl00_ctl00_ctl00_MainContent_SubContent_SubContent_rarityLabel\\'; ClientIDs.rarityValue = \\'ctl00_ctl00_ctl00_MainContent_SubContent_SubContent_rarityValue\\'; ClientIDs.otherSetsRow = \\'ctl00_ctl00_ctl00_MainContent_SubContent_SubContent_otherSetsRow\\'; ClientIDs.otherSetsLabel = \\'ctl00_ctl00_ctl00_MainContent_SubContent_SubContent_otherSetsLabel\\'; ClientIDs.otherSetsValue = \\'ctl00_ctl00_ctl00_MainContent_SubContent_SubContent_otherSetsValue\\'; ClientIDs.numberRow = \\'ctl00_ctl00_ctl00_MainContent_SubContent_SubContent_numberRow\\'; ClientIDs.numberLabel = \\'ctl00_ctl00_ctl00_MainContent_SubContent_SubContent_numberLabel\\'; ClientIDs.CardNumberValue = \\'ctl00_ctl00_ctl00_MainContent_SubContent_SubContent_CardNumberValue\\'; ClientIDs.numberValue = \\'ctl00_ctl00_ctl00_MainContent_SubContent_SubContent_numberValue\\'; ClientIDs.artistRow = \\'ctl00_ctl00_ctl00_MainContent_SubContent_SubContent_artistRow\\'; ClientIDs.artistLabel = \\'ctl00_ctl00_ctl00_MainContent_SubContent_SubContent_artistLabel\\'; ClientIDs.ArtistCredit = \\'ctl00_ctl00_ctl00_MainContent_SubContent_SubContent_ArtistCredit\\'; ClientIDs.artistValue = \\'ctl00_ctl00_ctl00_MainContent_SubContent_SubContent_artistValue\\'; ClientIDs.linkedRow = \\'ctl00_ctl00_ctl00_MainContent_SubContent_SubContent_linkedRow\\'; ClientIDs.linkedLabel = \\'ctl00_ctl00_ctl00_MainContent_SubContent_SubContent_linkedLabel\\'; ClientIDs.Div2 = \\'ctl00_ctl00_ctl00_MainContent_SubContent_SubContent_Div2\\'; ClientIDs.linkedValue = \\'ctl00_ctl00_ctl00_MainContent_SubContent_SubContent_linkedValue\\'; ClientIDs.rulingsRow = \\'ctl00_ctl00_ctl00_MainContent_SubContent_SubContent_rulingsRow\\'; ClientIDs.rulingsContainer = \\'ctl00_ctl00_ctl00_MainContent_SubContent_SubContent_rulingsContainer\\'; ClientIDs.rulingsRepeater = \\'ctl00_ctl00_ctl00_MainContent_SubContent_SubContent_rulingsRepeater\\'; ClientIDs.rulingDate = \\'ctl00_ctl00_ctl00_MainContent_SubContent_SubContent_rulingsRepeater_ctl00_rulingDate\\'; ClientIDs.rulingText = \\'ctl00_ctl00_ctl00_MainContent_SubContent_SubContent_rulingsRepeater_ctl00_rulingText\\'; ClientIDs.cardComponent1 = \\'ctl00_ctl00_ctl00_MainContent_SubContent_SubContent_cardComponent1\\'; ClientIDs.bottomPagingControlsContainer = \\'ctl00_ctl00_ctl00_MainContent_SubContent_bottomPagingControlsContainer\\'; ClientIDs.RightBannerAdvertisement = \\'ctl00_ctl00_ctl00_RightBannerAdvertisement\\'; ClientIDs.backgroundBottom = \\'ctl00_ctl00_ctl00_backgroundBottom\\'; ClientIDs.frontPageMessages = \\'ctl00_ctl00_ctl00_frontPageMessages\\'; ClientIDs.footer = \\'ctl00_ctl00_ctl00_footer\\'; ClientIDs.A5 = \\'ctl00_ctl00_ctl00_A5\\'; ClientIDs.A6 = \\'ctl00_ctl00_ctl00_A6\\'; ClientIDs.A7 = \\'ctl00_ctl00_ctl00_A7\\'; ClientIDs.A1 = \\'ctl00_ctl00_ctl00_A1\\'; ClientIDs.A2 = \\'ctl00_ctl00_ctl00_A2\\'; ClientIDs.A4 = \\'ctl00_ctl00_ctl00_A4\\'; ClientIDs.Label4 = \\'ctl00_ctl00_ctl00_Label4\\'; ClientIDs.A3 = \\'ctl00_ctl00_ctl00_A3\\'; ClientIDs.loginSeparator = \\'ctl00_ctl00_ctl00_loginSeparator\\'; ClientIDs.loginLinkPlaceholder = \\'ctl00_ctl00_ctl00_loginLinkPlaceholder\\'; ClientIDs.CopyrightYear = \\'ctl00_ctl00_ctl00_CopyrightYear\\'; var textBoxHash = new Hash( { ctl00_ctl00_ctl00_SearchControls_CardSearchBoxParent_HeaderCardSearchBox: \\'Search Terms...\\' } );//]]></script><script src=\"../../Scripts/Constants.js\" type=\"text/javascript\"></script><script src=\"../../Scripts/CardDatabase.js\" type=\"text/javascript\"></script><script src=\"../../Scripts/CardDetails.js\" type=\"text/javascript\"></script><script src=\"../../Scripts/StarRating.js\" type=\"text/javascript\"></script><script src=\"../../Scripts/SearchControls.js\" type=\"text/javascript\"></script><script type=\"text/javascript\"> //<![CDATA[ Event.observe(window, \\'load\\', SubscribeToStarEvents); //]]></script><input type=\"hidden\" name=\"__VIEWSTATEGENERATOR\" id=\"__VIEWSTATEGENERATOR\" value=\"55329D01\" /><input type=\"hidden\" name=\"__EVENTVALIDATION\" id=\"__EVENTVALIDATION\" value=\"/wEWAwLSxf2bBQLqm/3ZBgLR3aZUIjxTQtjSnLAE4Fi31gQA0J/7FGU=\" /><div style=\"width: 100%; height: 1px;\"></div><div id=\"ctl00_ctl00_ctl00_altHead\" class=\"altHead\"><div class=\"backgroundTop\"></div><div class=\"headerSearch\"><a href=\"https://magic.wizards.com\" class=\"headerLogoContainer\"><img class=\"MagicLogoNew\" src=\"//media.wizards.com/2018/images/magic/gatherer/magic_logo.png\" /></a><div class=\"headerRightOfLogo\"><div class=\"headerSearchTitle\"><a href=\"../Default.aspx\" id=\"ctl00_ctl00_ctl00_gobacktohome\"> GATHERER</a></div><div class=\"searchcontrolsNew\"><div id=\"ctl00_ctl00_ctl00_SearchControls_SearchBoxContainer\" class=\"searchboxcontainertop\"><div class=\"textboxnew\" id=\"ctl00_ctl00_ctl00_SearchControls_CardSearchBoxParent\" style=\"\"><input name=\"ctl00$ctl00$ctl00$SearchControls$CardSearchBoxParent$HeaderCardSearchBox\" type=\"text\" id=\"ctl00_ctl00_ctl00_SearchControls_CardSearchBoxParent_HeaderCardSearchBox\" class=\"textboxinputnew\" onblur=\"SetCurrentControlBlur(event)\" onfocus=\"SetCurrentControlFocus(event, this);\" autocomplete=\"off\" maxlength=\"50\" /></div><div class=\"searchsubmit\"><input type=\"submit\" name=\"ctl00$ctl00$ctl00$SearchControls$headerSearchSubmitButton\" value=\"SEARCH\" id=\"ctl00_ctl00_ctl00_SearchControls_headerSearchSubmitButton\" class=\"searchbutton\" /></div></div><!-- Autocomplete Results --><div id=\"ctl00_ctl00_ctl00_SearchControls_HeaderSearchBoxResults\" class=\"searchresultscontainertop\"><div class=\"smallGreyBorder\"><div class=\"simpleRoundedBoxTitleGrey\"> Results </div><div id=\"ctl00_ctl00_ctl00_SearchControls_HeaderSearchBoxResultsContent\" style=\"background-color: #b7b7b7; padding-bottom: 1px\"></div><div class=\"simpleRoundedBoxFooterGrey\"><span><a href=\"javascript:void(0);\" id=\"ctl00_ctl00_ctl00_SearchControls_HeaderAllResultsLink\" class=\"autoCompleteAllResults\"><span>All Results</span></a></span></div><b class=\"cc\"><b></b></b></div></div><!-- /Autocomplete Results --></div><div class=\"headerSearchLinks\"><div><a href=\"../Default.aspx\" id=\"ctl00_ctl00_ctl00_Simple\">SIMPLE SEARCH</a></div> | <div><a href=\"../Advanced.aspx\" id=\"ctl00_ctl00_ctl00_Advanced\"> ADVANCED SEARCH</a></div> | <div><a href=\"Details.aspx?action=random\" id=\"ctl00_ctl00_ctl00_Random\"> RANDOM CARD</a></div></div></div></div></div><div id=\"ctl00_ctl00_ctl00_MainContainer\" class=\"mainContainer\"><div id=\"Main\" ><div class=\"gathererContent\"><div id=\"ctl00_ctl00_ctl00_MainContent_NavigationLinks_NavigationAnchorsContainer\" class=\"searchcontrollinks\"><a href=\"../Default.aspx\" id=\"ctl00_ctl00_ctl00_MainContent_NavigationLinks_Simple\" class=\"current\">SIMPLE</a><a href=\"../Advanced.aspx\" id=\"ctl00_ctl00_ctl00_MainContent_NavigationLinks_Advanced\">ADVANCED</a><a href=\"Details.aspx?action=random\" id=\"ctl00_ctl00_ctl00_MainContent_NavigationLinks_Random\">Random Card</a><a href=\"../Settings.aspx\" id=\"ctl00_ctl00_ctl00_MainContent_NavigationLinks_Settings\">Settings</a><a href=\"../Language.aspx\" id=\"ctl00_ctl00_ctl00_MainContent_NavigationLinks_Language\">Language</a><a href=\"../Help.aspx\" id=\"ctl00_ctl00_ctl00_MainContent_NavigationLinks_Help\">Help</a></div><div class=\"contentcontainer\"><div class=\"smallGreyBorder\"><b class=\"dt\"><b></b></b><div class=\"simpleRoundedBoxTitleGreyTall\"><div class=\"contentTitle\"><span id=\"ctl00_ctl00_ctl00_MainContent_SubContent_SubContentHeader_subtitleDisplay\">Короста</span></div><div class=\"contentLinksContainer\"><div class=\"separatorWrapper\"><div class=\"separatorBackground\"></div></div><ul id=\"ctl00_ctl00_ctl00_MainContent_SubContent_SubContentAnchors_DetailsAnchors_ContentNavigationControlsContainer\" class=\"contentlinks\"><li id=\"ctl00_ctl00_ctl00_MainContent_SubContent_SubContentAnchors_DetailsAnchors_Details\" class=\"current\"><a href=\"Details.aspx?multiverseid=385786\" id=\"ctl00_ctl00_ctl00_MainContent_SubContent_SubContentAnchors_DetailsAnchors_DetailsLink\"><span id=\"ctl00_ctl00_ctl00_MainContent_SubContent_SubContentAnchors_DetailsAnchors_Label3\">Details</span> | </a></li><li id=\"ctl00_ctl00_ctl00_MainContent_SubContent_SubContentAnchors_DetailsAnchors_Printings\"><a href=\"Printings.aspx?multiverseid=385786\" id=\"ctl00_ctl00_ctl00_MainContent_SubContent_SubContentAnchors_DetailsAnchors_PrintingsLink\"><span id=\"ctl00_ctl00_ctl00_MainContent_SubContent_SubContentAnchors_DetailsAnchors_Label2\">Sets & Legality</span> |</a></li><li id=\"ctl00_ctl00_ctl00_MainContent_SubContent_SubContentAnchors_DetailsAnchors_Languages\"><a href=\"Languages.aspx?multiverseid=385786\" id=\"ctl00_ctl00_ctl00_MainContent_SubContent_SubContentAnchors_DetailsAnchors_LanguagesLink\"><span id=\"ctl00_ctl00_ctl00_MainContent_SubContent_SubContentAnchors_DetailsAnchors_Label1\">Language</span> | </a></li><li id=\"ctl00_ctl00_ctl00_MainContent_SubContent_SubContentAnchors_DetailsAnchors_Discussion\"><a href=\"Discussion.aspx?multiverseid=385786\" id=\"ctl00_ctl00_ctl00_MainContent_SubContent_SubContentAnchors_DetailsAnchors_DiscussionLink\"><span>Discussion</span></a></li></ul></div><div class=\"pagingcontrols\"><div id=\"ctl00_ctl00_ctl00_MainContent_SubContent_topPagingControlsContainer\" class=\"paging\"></div></div></div><div class=\"cardContent\"><img class=\"cardCircle\" src=\"/Images/Card_Circles.png\"/><table class=\"cardComponentTable\"><tr><td id=\"ctl00_ctl00_ctl00_MainContent_SubContent_SubContent_cardComponent0\" class=\"cardComponentContainer\"><table class=\"cardDetails\"><tr><td id=\"ctl00_ctl00_ctl00_MainContent_SubContent_SubContent_leftColumn\" class=\"leftCol\" align=\"center\"><div class=\"cardImage\"><img src=\"../../Handlers/Image.ashx?multiverseid=385786&amp;type=card\" id=\"ctl00_ctl00_ctl00_MainContent_SubContent_SubContent_cardImage\" alt=\"Короста\" style=\"border:none;border-radius:13px;-webkit-border-radius:13px;-moz-border-radius:13px;\" /></div><div class=\"variations\"> &nbsp; </div><div class=\"CommunityRatings\"><div id=\"ctl00_ctl00_ctl00_MainContent_SubContent_SubContent_playerRatingRow\"><div class=\"label\" style=\"width: 100%; line-height: 30px;\"><span id=\"ctl00_ctl00_ctl00_MainContent_SubContent_SubContent_Label1\">Community Rating:</span></div><div class=\"value\"><span id=\"ctl00_ctl00_ctl00_MainContent_SubContent_SubContent_ratingResult\" class=\"ratingResult\" style=\"float: right;\"></span><div class=\"stars\"><div id=\"ctl00_ctl00_ctl00_MainContent_SubContent_SubContent_currentRating_starRating\" class=\"starRating\"><img src=\"../../Images/Stars/LeftSolid.png\" alt=\"0.5\" /><img src=\"../../Images/Stars/RightSolid.png\" alt=\"1.0\" /><img src=\"../../Images/Stars/LeftSolid.png\" alt=\"1.5\" /><img src=\"../../Images/Stars/RightSolid.png\" alt=\"2.0\" /><img src=\"../../Images/Stars/LeftSolid.png\" alt=\"2.5\" /><img src=\"../../Images/Stars/RightSolid.png\" alt=\"3.0\" /><img src=\"../../Images/Stars/LeftSolid.png\" alt=\"3.5\" /><img src=\"../../Images/Stars/RightSolid.png\" alt=\"4.0\" /><img src=\"../../Images/Stars/LeftSolid.png\" alt=\"4.5\" /><img src=\"../../Images/Stars/RightSolid.png\" alt=\"5.0\" /><br/><div id=\"ctl00_ctl00_ctl00_MainContent_SubContent_SubContent_currentRating_textRatingContainer\" class=\"textRating\"><span>Community Rating:</span><span id=\"ctl00_ctl00_ctl00_MainContent_SubContent_SubContent_currentRating_textRating\" class=\"textRatingValue\">5</span> / 5&nbsp;&nbsp;(<span id=\"ctl00_ctl00_ctl00_MainContent_SubContent_SubContent_currentRating_totalVotes\" class=\"totalVotesValue\">0</span><span id=\"ctl00_ctl00_ctl00_MainContent_SubContent_SubContent_currentRating_extraVoteInfo\"> votes</span>)</div></div></div></div></div><div style=\"padding-left: 5px; font-size: .85em; position: relative; width: 100%; text-align: center; z-index: 9999;\"><a href=\"/Pages/Card/Discussion.aspx?multiverseid=385786\" id=\"ctl00_ctl00_ctl00_MainContent_SubContent_SubContent_discussionLink\"> Click here to view ratings and comments. </a></div></div></td><td id=\"ctl00_ctl00_ctl00_MainContent_SubContent_SubContent_rightCol\" class=\"rightCol\"><div class=\"smallGreyMono rightColHeader\"><b class=\"ft\"><b></b></b><div style=\"font-size: 12pt; font-family: \\'open_sansregular\\';\"><b><a id=\"cardTextSwitchLink1\" href=\\'/Pages/Card/Details.aspx?printed=false&multiverseid=385786\\' class=\"selected\" style=\"visibility:{0}\">Oracle</a></b><a id=\"cardTextSwitchLink2\" href=\\'/Pages/Card/Details.aspx?printed=true&multiverseid=385786\\' style=\"visibility:{0}\">Printed</a></div></div><div class=\"smallGreyMono\" style=\"margin-top: 5px;\"><b class=\"ft\"><b></b></b><div id=\"ctl00_ctl00_ctl00_MainContent_SubContent_SubContent_nameRow\" class=\"row\"><div class=\"label\"> Card Name:</div><div class=\"value\"> Encrust</div></div><div id=\"ctl00_ctl00_ctl00_MainContent_SubContent_SubContent_manaRow\" class=\"row manaRow\"><div class=\"label\" style=\"line-height: 25px;\"> Mana Cost:</div><div class=\"value\"><img src=\"/Handlers/Image.ashx?size=medium&amp;name=1&amp;type=symbol\" alt=\"1\" align=\"absbottom\" /><img src=\"/Handlers/Image.ashx?size=medium&amp;name=U&amp;type=symbol\" alt=\"Blue\" align=\"absbottom\" /><img src=\"/Handlers/Image.ashx?size=medium&amp;name=U&amp;type=symbol\" alt=\"Blue\" align=\"absbottom\" /></div></div><div id=\"ctl00_ctl00_ctl00_MainContent_SubContent_SubContent_cmcRow\" class=\"row\"><div class=\"label\" style=\"font-size: .7em;\"> Converted Mana Cost:</div><div class=\"value\"> 3</div></div><div id=\"ctl00_ctl00_ctl00_MainContent_SubContent_SubContent_typeRow\" class=\"row\"><div class=\"label\"> Types:</div><div class=\"value\"> Enchantment — Aura</div></div><div id=\"ctl00_ctl00_ctl00_MainContent_SubContent_SubContent_textRow\" class=\"row\"><div class=\"label\"> Card Text:</div><div class=\"value\"><div class=\"cardtextbox\" style=\"padding-left:10px;\">Enchant artifact or creature</div><div class=\"cardtextbox\" style=\"padding-left:10px;\">Enchanted permanent doesn\\'t untap during its controller\\'s untap step and its activated abilities can\\'t be activated.</div></div></div><div id=\"ctl00_ctl00_ctl00_MainContent_SubContent_SubContent_flavorRow\" class=\"row\"><div class=\"label\"> Flavor Text:</div><div id=\"ctl00_ctl00_ctl00_MainContent_SubContent_SubContent_FlavorText\" class=\"value\"><div class=\"flavortextbox\">«Море дарует слабому силу сразить могучего». </div><div class=\\'flavortextbox\\'>— Талранд, небесный вызыватель</div></div></div><div id=\"ctl00_ctl00_ctl00_MainContent_SubContent_SubContent_setRow\" class=\"row\"><div class=\"label\"> Expansion:</div><div class=\"value\"><div id=\"ctl00_ctl00_ctl00_MainContent_SubContent_SubContent_currentSetSymbol\"><a href=\"Details.aspx?multiverseid=385786\"><img title=\"Magic 2015 Core Set (Common)\" src=\"../../Handlers/Image.ashx?type=symbol&amp;set=M15&amp;size=small&amp;rarity=C\" alt=\"Magic 2015 Core Set (Common)\" align=\"absmiddle\" border=\"0\" /></a><a href=\"/Pages/Search/Default.aspx?action=advanced&amp;set=[%22Magic 2015 Core Set%22]\">Magic 2015 Core Set</a></div></div></div><div id=\"ctl00_ctl00_ctl00_MainContent_SubContent_SubContent_rarityRow\" class=\"row\"><div class=\"label\"> Rarity:</div><div class=\"value\"><span class=\\'common\\'>Common</span></div></div><div id=\"ctl00_ctl00_ctl00_MainContent_SubContent_SubContent_otherSetsRow\" class=\"row otherSetsRow\"><div class=\"label\"> All Sets:</div><div class=\"value\"><div id=\"ctl00_ctl00_ctl00_MainContent_SubContent_SubContent_otherSetsValue\"><div style=\"width:22px;display:inline-block;text-align:center;\"><a href=\"Details.aspx?multiverseid=278194\"><img title=\"Magic 2013 (Common)\" src=\"../../Handlers/Image.ashx?type=symbol&amp;set=M13&amp;size=small&amp;rarity=C\" alt=\"Magic 2013 (Common)\" align=\"absmiddle\" border=\"0\" style=\"max-width:21px;\" /></a></div><div style=\"width:22px;display:inline-block;text-align:center;\"><a href=\"Details.aspx?multiverseid=385786\"><img title=\"Magic 2015 Core Set (Common)\" src=\"../../Handlers/Image.ashx?type=symbol&amp;set=M15&amp;size=small&amp;rarity=C\" alt=\"Magic 2015 Core Set (Common)\" align=\"absmiddle\" border=\"0\" style=\"max-width:21px;\" /></a></div></div></div></div><div id=\"ctl00_ctl00_ctl00_MainContent_SubContent_SubContent_numberRow\" class=\"row\"><div class=\"label\"> Card Number:</div><div id=\"ctl00_ctl00_ctl00_MainContent_SubContent_SubContent_CardNumberValue\" class=\"value\"> 53</div></div><div id=\"ctl00_ctl00_ctl00_MainContent_SubContent_SubContent_artistRow\" class=\"row\"><div class=\"label\"> Artist:</div><div id=\"ctl00_ctl00_ctl00_MainContent_SubContent_SubContent_ArtistCredit\" class=\"value\"><a href=\"/Pages/Search/Default.aspx?action=advanced&amp;artist=[%22Jason Felix%22]\">Jason Felix</a></div></div><div id=\"ctl00_ctl00_ctl00_MainContent_SubContent_SubContent_linkedRow\" class=\"row\"><div class=\"label\"></div><div id=\"ctl00_ctl00_ctl00_MainContent_SubContent_SubContent_Div2\" class=\"value\"></div></div><b class=\"ff\"><b></b></b></div><div class=\"smallGreyMono\" style=\"margin-top: 10px;\"><b class=\"ft\"><b></b></b><b class=\"ff\"><b></b></b></div></td></tr><tr id=\"ctl00_ctl00_ctl00_MainContent_SubContent_SubContent_rulingsRow\"><td colspan=\"2\"><div class=\"smallGreyBorder\" style=\"position: relative; top: 10px;\"><b class=\"at\"><b></b></b><div class=\"simpleRoundedBoxTitleGrey rulingsHeader\"><span class=\"boldtitle\"><span id=\"ctl00_ctl00_ctl00_MainContent_SubContent_SubContent_Label2\">Rulings</span></span></div><div class=\"discussion\"><div id=\"ctl00_ctl00_ctl00_MainContent_SubContent_SubContent_rulingsContainer\" class=\"postContainer\"><table class=\"rulingsTable\" cellpadding=\"0\" cellspacing=\"0\"><tr class=\"post evenItem\" style=\"background-color: #3a3939;\"><td id=\"ctl00_ctl00_ctl00_MainContent_SubContent_SubContent_rulingsRepeater_ctl00_rulingDate\" style=\"width: 70px; padding-left: 10px; font-weight: bold;\">7/18/2014</td><td id=\"ctl00_ctl00_ctl00_MainContent_SubContent_SubContent_rulingsRepeater_ctl00_rulingText\" style=\"width: 610px; padding-right: 5px;\" class=\"rulingsText\">Static and triggered abilities are unaffected by Encrust.</td></tr><tr style=\"background-color: rgba(255,255,366, 0.08);\" class=\"post oddItem\"><td id=\"ctl00_ctl00_ctl00_MainContent_SubContent_SubContent_rulingsRepeater_ctl01_rulingDate\" style=\"width: 70px; padding-left: 10px; font-weight: bold;\">7/18/2014</td><td id=\"ctl00_ctl00_ctl00_MainContent_SubContent_SubContent_rulingsRepeater_ctl01_rulingText\" style=\"width: 610px; padding-right: 5px;\" class=\"rulingsText\">The permanent can be untapped by other spells and abilities.</td></tr><tr class=\"post evenItem\" style=\"background-color: #3a3939;\"><td id=\"ctl00_ctl00_ctl00_MainContent_SubContent_SubContent_rulingsRepeater_ctl02_rulingDate\" style=\"width: 70px; padding-left: 10px; font-weight: bold;\">6/8/2016</td><td id=\"ctl00_ctl00_ctl00_MainContent_SubContent_SubContent_rulingsRepeater_ctl02_rulingText\" style=\"width: 610px; padding-right: 5px;\" class=\"rulingsText\">Activated abilities contain a colon. They’re generally written “[Cost]: [Effect].” Some keywords are activated abilities and will have colons in their reminder text.</td></tr></table></div></div><b class=\"aa\"><b></b></b></div></td></tr></table></td><td id=\"ctl00_ctl00_ctl00_MainContent_SubContent_SubContent_cardComponent1\" class=\"cardComponentContainer\"></td></tr></table></div><div class=\"clear\"></div><div id=\"ctl00_ctl00_ctl00_MainContent_SubContent_bottomPagingControlsContainer\" class=\"paging bottom\"></div><b class=\"dd\"><b></b></b></div></div></div><div class=\"rightContainer\"></div></div></div><div id=\"ctl00_ctl00_ctl00_backgroundBottom\" class=\"backgroundBottom\"><img class=\"shadowImg\" src=\"/images/Redesign/Shadow.png\" /><div id=\"ctl00_ctl00_ctl00_footer\" class=\"footer\"><div class=\"topBanner\" id=\"TopBannerAdvertisement\"><style> #separator3 { top: 40px; } </style><a href=\"https://magic.wizards.com/\" target=\"_blank\" id=\"footerUrl\"><img src=\"//media.wizards.com/2021/images/magic/gatherer/footerbanner.jpg\"></a></div><div class=\"footerLinks\"><a href=\"../TermsOfUse.aspx\" id=\"ctl00_ctl00_ctl00_A5\">Terms of Use</a><a href=\"../PrivacyPolicy.aspx\" id=\"ctl00_ctl00_ctl00_A6\">Privacy Policy</a><a href=\"../CodeOfConduct.aspx\" id=\"ctl00_ctl00_ctl00_A7\">Code of Conduct</a><a href=\"http://www.magicthegathering.com\" style=\"color: #ffffff;\">Magicthegathering.com</a><a href=\"https://magic.wizards.com/en/content/magic-online-products-game-info\" style=\"color: #ffffff;\"> Magic: The Gathering Online</a><a href=\"../Settings.aspx\" id=\"ctl00_ctl00_ctl00_A1\" style=\"color: #ffffff;\"><span id=\"ctl00_ctl00_ctl00_Label1\">Settings</span></a><a href=\"../Language.aspx\" id=\"ctl00_ctl00_ctl00_A2\" style=\"color: #ffffff;\"><span id=\"ctl00_ctl00_ctl00_Label2\">Language</span></a><a href=\"../LearnMore.aspx\" id=\"ctl00_ctl00_ctl00_A4\" style=\"color: #ffffff;\"><span id=\"ctl00_ctl00_ctl00_Label4\">Cookies</span></a><a href=\"../Help.aspx\" id=\"ctl00_ctl00_ctl00_A3\" style=\"color: #ffffff;\"><span id=\"ctl00_ctl00_ctl00_Label3\">Help</span></a></div><div class=\"wizardsFooterSection\"> &copy; 1995 - 2022 <a href=\"https://company.wizards.com\" style=\"color: #898989;\">Wizards of the Coast</a> LLC, a subsidiary of Hasbro, Inc. All Rights Reserved. </div><div class=\"brandingContainer\"><img class=\"hasbrologo\" src=\"/images/Redesign/hasbro_logo.png\" /><img class=\"wizardsfrontLogo\" src=\"/images/Redesign/wizards_logo.png\" /></div></div><span class=\"smalldate\"></span></div><script language=\"javascript\" type=\"text/javascript\"> var wotcAccountWidget = { init: function() { return false; } }; HandleReportPost = function(a, b) { window.location = \"http://wizards.custhelp.com/cgi-bin/wizards.cfg/php/enduser/ask.php?p_prods=522,706,739&amp;p_cats=\"; }</script></form><!-- popup--><div class=\"overly\"></div><div class=\"gatherer-popup\"><p>Gatherer works better in the Companion app!</p><div><a href=\"https://play.google.com/store/apps/details?id=com.wizards.winter_orb\" class=\"play-store-btn\"></a><a href=\"https://apps.apple.com/us/app/magic-the-gathering-companion/id1455161962\" class=\"app-store-btn\"></a><span class=\"back-store-btn\">Continue</span></div></div><!-- --><script type=\"text/javascript\"> window.onload = function() { var system = getMobileOperatingSystem(); if (system === \\'Android\\' && !sessionStorage.getItem(\"popupvisible\") === true ) { jQuery(\\'body\\').css(\\'overflow\\', \\'hidden\\') jQuery(\\'.overly\\').css(\\'display\\', \\'block\\') jQuery(\\'.gatherer-popup\\').css(\\'display\\', \\'block\\') jQuery(\\'.play-store-btn\\').css(\\'display\\', \\'inline-block\\') jQuery(\\'.app-store-btn\\').css(\\'display\\', \\'none\\') jQuery(\\'.gatherer-popup\\').click() //do search focus remove } else if (system === \\'iOS\\' && !sessionStorage.getItem(\"popupvisible\") === true ) { jQuery(\\'body\\').css(\\'overflow\\', \\'hidden\\') jQuery(\\'.overly\\').css(\\'display\\', \\'block\\') jQuery(\\'.gatherer-popup\\').css(\\'display\\', \\'block\\') jQuery(\\'.app-store-btn\\').css(\\'display\\', \\'inline-block\\') jQuery(\\'.play-store-btn\\').css(\\'display\\', \\'none\\') jQuery(\\'.gatherer-popup\\').click() } else { jQuery(\\'body\\').css(\\'overflow\\', \\'visible\\') jQuery(\\'.overly\\').css(\\'display\\', \\'none\\') jQuery(\\'.gatherer-popup\\').css(\\'display\\', \\'none\\') } }; jQuery(\\'.back-store-btn\\').on(\\'click\\', function () { jQuery(\\'body\\').css(\\'overflow\\', \\'visible\\') jQuery(\\'.overly\\').css(\\'display\\', \\'none\\') jQuery(\\'.gatherer-popup\\').css(\\'display\\', \\'none\\') sessionStorage.setItem(\"popupvisible\", true); //do search focus remove }) function getMobileOperatingSystem() { var userAgent = navigator.userAgent || navigator.vendor || window.opera; // Windows Phone must come first because its UA also contains \"Android\" if (/windows phone/i.test(userAgent)) { return \"Windows Phone\"; } if (/android/i.test(userAgent)) { return \"Android\"; } // iOS detection if (/iPad|iPhone|iPod/.test(userAgent) && !window.MSStream) { return \"iOS\"; } return \"unknown\"; } function removeAllCookiesBeforeConsent () { const allCookies = [ { name: \\'BIGipServeraccounts2.wizards.com_80\\', domain: \\'accounts.wizards.com\\' }, { name: \\'CardDatabaseSettings\\', domain: \\'.\\' + document.domain }, { name: \\'Language\\', domain: \\'accounts.wizards.com\\' }, { name: \\'__utma\\', domain: \\'wizards.com\\' }, { name: \\'__utmb\\', domain: \\'wizards.com\\' }, { name: \\'__utmc\\', domain: \\'wizards.com\\' }, { name: \\'__utmz\\', domain: \\'wizards.com\\' }, { name: \\'__utmt\\', domain: \\'wizards.com\\' }, { name: \\'rootAuth\\', domain: \\'wizards.com\\' }, { name: \\'RT\\', domain: \\'wizards.com\\' }, { name: \\'_ga\\', domain: \\'wizards.com\\' }, { name: \\'_gid\\', domain: \\'wizards.com\\' }, { name: \\'accounts.wizards.com\\', domain: \\'accounts.wizards.com\\' }, { name: \\'flagsSet\\', domain: \\'accounts.wizards.com\\' }, { name: \\'1P_JAR\\', domain: \\'google.com\\' }, { name: \\'NID\\', domain: \\'google.com\\' } ] for (let i = 0; i < allCookies.length; i++) { const cookie = allCookies[i] const a = jQuery.removeCookie(cookie.name, { path: \\'/\\', domain: cookie.domain }) } } jQuery(window).on(\\'load\\',function(){ removeAllCookiesBeforeConsent() }) </script><script> var oldBanner = document.body.childNodes[1]; if (oldBanner.innerText.startsWith(\\'This site uses cookies\\')) { document.body.removeChild(document.body.childNodes[1]); } </script></body></html>'"
            ]
          },
          "metadata": {},
          "execution_count": 116
        }
      ]
    },
    {
      "cell_type": "code",
      "source": [
        "from bs4 import BeautifulSoup\n",
        "\n",
        "soup = BeautifulSoup(html, 'html.parser')"
      ],
      "metadata": {
        "id": "9-TtauP6XyA9"
      },
      "execution_count": null,
      "outputs": []
    },
    {
      "cell_type": "markdown",
      "source": [
        "# Retirando informações da carta"
      ],
      "metadata": {
        "id": "vL8WrwZsm2cn"
      }
    },
    {
      "cell_type": "code",
      "source": [
        "itens = soup.findAll('div', class_=\"label\")\n",
        "i = 0\n",
        "index = []\n",
        "caracteristicas = []\n",
        "for item in itens:\n",
        "  index.append((item.get_text().lstrip(), i))\n",
        "  caracteristicas.append((item.get_text().lstrip()))\n",
        "  i += 1\n",
        "caracteristicas"
      ],
      "metadata": {
        "colab": {
          "base_uri": "https://localhost:8080/"
        },
        "id": "yRoeasb6m4O1",
        "outputId": "d85510ab-69ab-43fe-cb62-b8ac401f254b"
      },
      "execution_count": null,
      "outputs": [
        {
          "output_type": "execute_result",
          "data": {
            "text/plain": [
              "['Community Rating:',\n",
              " 'Card Name:',\n",
              " 'Mana Cost:',\n",
              " 'Converted Mana Cost:',\n",
              " 'Types:',\n",
              " 'Card Text:',\n",
              " 'Flavor Text:',\n",
              " 'Expansion:',\n",
              " 'Rarity:',\n",
              " 'All Sets:',\n",
              " 'Card Number:',\n",
              " 'Artist:',\n",
              " '']"
            ]
          },
          "metadata": {},
          "execution_count": 118
        }
      ]
    },
    {
      "cell_type": "markdown",
      "source": [
        "## Nome da carta"
      ],
      "metadata": {
        "id": "KrLTsv0tOQzb"
      }
    },
    {
      "cell_type": "code",
      "source": [
        "if \"Card Name:\" in caracteristicas:\n",
        "  card_name = itens[caracteristicas.index(\"Card Name:\")].find_next().get_text().lstrip()\n",
        "card_name"
      ],
      "metadata": {
        "colab": {
          "base_uri": "https://localhost:8080/",
          "height": 37
        },
        "id": "kvtm8e4PGKau",
        "outputId": "d59f6d8b-667d-4669-c234-8325828fb6c4"
      },
      "execution_count": null,
      "outputs": [
        {
          "output_type": "execute_result",
          "data": {
            "application/vnd.google.colaboratory.intrinsic+json": {
              "type": "string"
            },
            "text/plain": [
              "'Encrust'"
            ]
          },
          "metadata": {},
          "execution_count": 119
        }
      ]
    },
    {
      "cell_type": "markdown",
      "source": [
        "## Custo de mana"
      ],
      "metadata": {
        "id": "XQ1rH217OUmV"
      }
    },
    {
      "cell_type": "code",
      "source": [
        "mana_cost = []\n",
        "for mana in soup.findAll('img', {\"align\":\"absbottom\"}):\n",
        "  mana_cost.append(mana.get(\"alt\"))\n",
        "mana_cost"
      ],
      "metadata": {
        "colab": {
          "base_uri": "https://localhost:8080/"
        },
        "id": "d1H7j8kNG5wG",
        "outputId": "239722da-9353-470c-f4ac-ab738ac5e4ff"
      },
      "execution_count": null,
      "outputs": [
        {
          "output_type": "execute_result",
          "data": {
            "text/plain": [
              "['1', 'Blue', 'Blue']"
            ]
          },
          "metadata": {},
          "execution_count": 120
        }
      ]
    },
    {
      "cell_type": "markdown",
      "source": [
        "## Tipo de carta"
      ],
      "metadata": {
        "id": "DD4MqrdRPwRm"
      }
    },
    {
      "cell_type": "code",
      "source": [
        "if \"Types:\" in caracteristicas:\n",
        "  types = itens[caracteristicas.index(\"Types:\")].find_next().get_text().lstrip()\n",
        "types"
      ],
      "metadata": {
        "colab": {
          "base_uri": "https://localhost:8080/",
          "height": 37
        },
        "id": "q3L13_w7OcRn",
        "outputId": "2cd99f59-420c-47c5-d1bd-e8ccffe29849"
      },
      "execution_count": null,
      "outputs": [
        {
          "output_type": "execute_result",
          "data": {
            "application/vnd.google.colaboratory.intrinsic+json": {
              "type": "string"
            },
            "text/plain": [
              "'Enchantment — Aura'"
            ]
          },
          "metadata": {},
          "execution_count": 121
        }
      ]
    },
    {
      "cell_type": "markdown",
      "source": [
        "## Texto da carta"
      ],
      "metadata": {
        "id": "YHYfm2M9RIV1"
      }
    },
    {
      "cell_type": "code",
      "source": [
        "text = []\n",
        "for phrase in soup.findAll('div', class_=\"cardtextbox\"):\n",
        "  text.append(phrase.get_text())\n",
        "text = \"\\n\".join(text)\n",
        "print(text)"
      ],
      "metadata": {
        "colab": {
          "base_uri": "https://localhost:8080/"
        },
        "id": "9qqaFZ0sPhDm",
        "outputId": "02e24746-c279-4dd4-9fad-72f89ae47fe5"
      },
      "execution_count": null,
      "outputs": [
        {
          "output_type": "stream",
          "name": "stdout",
          "text": [
            "Enchant artifact or creature\n",
            "Enchanted permanent doesn't untap during its controller's untap step and its activated abilities can't be activated.\n"
          ]
        }
      ]
    },
    {
      "cell_type": "markdown",
      "source": [
        "# Poder"
      ],
      "metadata": {
        "id": "732qBvljSDEg"
      }
    },
    {
      "cell_type": "code",
      "source": [
        "if \"P/T:\" in caracteristicas:\n",
        "  power = itens[caracteristicas.index(\"P/T:\")].find_next().find_next().get_text().lstrip()\n",
        "else:\n",
        "  power = \"0 / 0\"\n",
        "atack = int(power.split(\"/\")[0])\n",
        "print(atack)\n",
        "defense = int(power.split(\"/\")[1])\n",
        "print(defense)"
      ],
      "metadata": {
        "colab": {
          "base_uri": "https://localhost:8080/"
        },
        "id": "psiBIPSqQJ__",
        "outputId": "e5195e00-ba82-4d76-b387-5b54bb5bf25d"
      },
      "execution_count": null,
      "outputs": [
        {
          "output_type": "stream",
          "name": "stdout",
          "text": [
            "0\n",
            "0\n"
          ]
        }
      ]
    },
    {
      "cell_type": "markdown",
      "source": [
        "## Edição"
      ],
      "metadata": {
        "id": "fBdDcWP6SRpy"
      }
    },
    {
      "cell_type": "code",
      "source": [
        "if \"Expansion:\" in caracteristicas:\n",
        "  edition = itens[caracteristicas.index(\"Expansion:\")].find_next().get_text().lstrip()\n",
        "edition"
      ],
      "metadata": {
        "colab": {
          "base_uri": "https://localhost:8080/",
          "height": 37
        },
        "id": "K8rsjFv1RgsL",
        "outputId": "0d5880c6-a982-4971-fa55-171b47077ee0"
      },
      "execution_count": null,
      "outputs": [
        {
          "output_type": "execute_result",
          "data": {
            "application/vnd.google.colaboratory.intrinsic+json": {
              "type": "string"
            },
            "text/plain": [
              "'Magic 2015 Core Set'"
            ]
          },
          "metadata": {},
          "execution_count": 126
        }
      ]
    },
    {
      "cell_type": "markdown",
      "source": [
        "## Raridade"
      ],
      "metadata": {
        "id": "2LWV9aJjSk4S"
      }
    },
    {
      "cell_type": "code",
      "source": [
        "if \"Rarity:\" in caracteristicas:\n",
        "  rarity = itens[caracteristicas.index(\"Rarity:\")].find_next().get_text().lstrip()\n",
        "rarity"
      ],
      "metadata": {
        "colab": {
          "base_uri": "https://localhost:8080/",
          "height": 37
        },
        "id": "JTmFezF8Sfqj",
        "outputId": "3fe72714-0b56-49b0-b0de-9d93abfe2607"
      },
      "execution_count": null,
      "outputs": [
        {
          "output_type": "execute_result",
          "data": {
            "application/vnd.google.colaboratory.intrinsic+json": {
              "type": "string"
            },
            "text/plain": [
              "'Common'"
            ]
          },
          "metadata": {},
          "execution_count": 127
        }
      ]
    },
    {
      "cell_type": "markdown",
      "source": [
        "## Imagem"
      ],
      "metadata": {
        "id": "hOYtfhufTC8o"
      }
    },
    {
      "cell_type": "code",
      "source": [
        "image = soup.find('div', class_=\"cardImage\").find('img')\n",
        "image_link = \"https://gatherer.wizards.com\" + image.get('src')[5:]\n",
        "print(image_link)"
      ],
      "metadata": {
        "colab": {
          "base_uri": "https://localhost:8080/"
        },
        "id": "V5hi4lFqSvFb",
        "outputId": "75e915cf-3e18-43dd-b19b-28065824efd5"
      },
      "execution_count": null,
      "outputs": [
        {
          "output_type": "stream",
          "name": "stdout",
          "text": [
            "https://gatherer.wizards.com/Handlers/Image.ashx?multiverseid=385786&type=card\n"
          ]
        }
      ]
    },
    {
      "cell_type": "markdown",
      "source": [
        "## Gerando o Card"
      ],
      "metadata": {
        "id": "__ExibUfUifS"
      }
    },
    {
      "cell_type": "code",
      "source": [
        "card = {\"card_name\": card_name,\n",
        "        \"types\": types,\n",
        "        \"mana_cost\": mana_cost,\n",
        "        \"text\": text,\n",
        "        \"atack\": atack,\n",
        "        \"defense\": defense,\n",
        "        \"edition\": edition,\n",
        "        \"rarity\": rarity,\n",
        "        \"image\": image_link\n",
        "}\n",
        "\n",
        "card"
      ],
      "metadata": {
        "colab": {
          "base_uri": "https://localhost:8080/"
        },
        "id": "Un0i5qtoTGOJ",
        "outputId": "063ef069-54c9-491b-947b-c8d5588c5815"
      },
      "execution_count": null,
      "outputs": [
        {
          "output_type": "execute_result",
          "data": {
            "text/plain": [
              "{'atack': 0,\n",
              " 'card_name': 'Encrust',\n",
              " 'defense': 0,\n",
              " 'edition': 'Magic 2015 Core Set',\n",
              " 'image': 'https://gatherer.wizards.com/Handlers/Image.ashx?multiverseid=385786&type=card',\n",
              " 'mana_cost': ['1', 'Blue', 'Blue'],\n",
              " 'rarity': 'Common',\n",
              " 'text': \"Enchant artifact or creature\\nEnchanted permanent doesn't untap during its controller's untap step and its activated abilities can't be activated.\",\n",
              " 'types': 'Enchantment — Aura'}"
            ]
          },
          "metadata": {},
          "execution_count": 134
        }
      ]
    },
    {
      "cell_type": "code",
      "source": [
        "pd.DataFrame.from_dict(card, orient='index').T"
      ],
      "metadata": {
        "colab": {
          "base_uri": "https://localhost:8080/",
          "height": 141
        },
        "id": "Ke13SLArUvHw",
        "outputId": "4a287d56-6b44-41dd-a5c2-169196447e52"
      },
      "execution_count": null,
      "outputs": [
        {
          "output_type": "execute_result",
          "data": {
            "text/html": [
              "\n",
              "  <div id=\"df-9bbc8fec-c721-41da-8670-256bfec4e91b\">\n",
              "    <div class=\"colab-df-container\">\n",
              "      <div>\n",
              "<style scoped>\n",
              "    .dataframe tbody tr th:only-of-type {\n",
              "        vertical-align: middle;\n",
              "    }\n",
              "\n",
              "    .dataframe tbody tr th {\n",
              "        vertical-align: top;\n",
              "    }\n",
              "\n",
              "    .dataframe thead th {\n",
              "        text-align: right;\n",
              "    }\n",
              "</style>\n",
              "<table border=\"1\" class=\"dataframe\">\n",
              "  <thead>\n",
              "    <tr style=\"text-align: right;\">\n",
              "      <th></th>\n",
              "      <th>card_name</th>\n",
              "      <th>types</th>\n",
              "      <th>mana_cost</th>\n",
              "      <th>text</th>\n",
              "      <th>atack</th>\n",
              "      <th>defense</th>\n",
              "      <th>edition</th>\n",
              "      <th>rarity</th>\n",
              "      <th>image</th>\n",
              "    </tr>\n",
              "  </thead>\n",
              "  <tbody>\n",
              "    <tr>\n",
              "      <th>0</th>\n",
              "      <td>Encrust</td>\n",
              "      <td>Enchantment — Aura</td>\n",
              "      <td>[1, Blue, Blue]</td>\n",
              "      <td>Enchant artifact or creature\\nEnchanted perman...</td>\n",
              "      <td>0</td>\n",
              "      <td>0</td>\n",
              "      <td>Magic 2015 Core Set</td>\n",
              "      <td>Common</td>\n",
              "      <td>https://gatherer.wizards.com/Handlers/Image.as...</td>\n",
              "    </tr>\n",
              "  </tbody>\n",
              "</table>\n",
              "</div>\n",
              "      <button class=\"colab-df-convert\" onclick=\"convertToInteractive('df-9bbc8fec-c721-41da-8670-256bfec4e91b')\"\n",
              "              title=\"Convert this dataframe to an interactive table.\"\n",
              "              style=\"display:none;\">\n",
              "        \n",
              "  <svg xmlns=\"http://www.w3.org/2000/svg\" height=\"24px\"viewBox=\"0 0 24 24\"\n",
              "       width=\"24px\">\n",
              "    <path d=\"M0 0h24v24H0V0z\" fill=\"none\"/>\n",
              "    <path d=\"M18.56 5.44l.94 2.06.94-2.06 2.06-.94-2.06-.94-.94-2.06-.94 2.06-2.06.94zm-11 1L8.5 8.5l.94-2.06 2.06-.94-2.06-.94L8.5 2.5l-.94 2.06-2.06.94zm10 10l.94 2.06.94-2.06 2.06-.94-2.06-.94-.94-2.06-.94 2.06-2.06.94z\"/><path d=\"M17.41 7.96l-1.37-1.37c-.4-.4-.92-.59-1.43-.59-.52 0-1.04.2-1.43.59L10.3 9.45l-7.72 7.72c-.78.78-.78 2.05 0 2.83L4 21.41c.39.39.9.59 1.41.59.51 0 1.02-.2 1.41-.59l7.78-7.78 2.81-2.81c.8-.78.8-2.07 0-2.86zM5.41 20L4 18.59l7.72-7.72 1.47 1.35L5.41 20z\"/>\n",
              "  </svg>\n",
              "      </button>\n",
              "      \n",
              "  <style>\n",
              "    .colab-df-container {\n",
              "      display:flex;\n",
              "      flex-wrap:wrap;\n",
              "      gap: 12px;\n",
              "    }\n",
              "\n",
              "    .colab-df-convert {\n",
              "      background-color: #E8F0FE;\n",
              "      border: none;\n",
              "      border-radius: 50%;\n",
              "      cursor: pointer;\n",
              "      display: none;\n",
              "      fill: #1967D2;\n",
              "      height: 32px;\n",
              "      padding: 0 0 0 0;\n",
              "      width: 32px;\n",
              "    }\n",
              "\n",
              "    .colab-df-convert:hover {\n",
              "      background-color: #E2EBFA;\n",
              "      box-shadow: 0px 1px 2px rgba(60, 64, 67, 0.3), 0px 1px 3px 1px rgba(60, 64, 67, 0.15);\n",
              "      fill: #174EA6;\n",
              "    }\n",
              "\n",
              "    [theme=dark] .colab-df-convert {\n",
              "      background-color: #3B4455;\n",
              "      fill: #D2E3FC;\n",
              "    }\n",
              "\n",
              "    [theme=dark] .colab-df-convert:hover {\n",
              "      background-color: #434B5C;\n",
              "      box-shadow: 0px 1px 3px 1px rgba(0, 0, 0, 0.15);\n",
              "      filter: drop-shadow(0px 1px 2px rgba(0, 0, 0, 0.3));\n",
              "      fill: #FFFFFF;\n",
              "    }\n",
              "  </style>\n",
              "\n",
              "      <script>\n",
              "        const buttonEl =\n",
              "          document.querySelector('#df-9bbc8fec-c721-41da-8670-256bfec4e91b button.colab-df-convert');\n",
              "        buttonEl.style.display =\n",
              "          google.colab.kernel.accessAllowed ? 'block' : 'none';\n",
              "\n",
              "        async function convertToInteractive(key) {\n",
              "          const element = document.querySelector('#df-9bbc8fec-c721-41da-8670-256bfec4e91b');\n",
              "          const dataTable =\n",
              "            await google.colab.kernel.invokeFunction('convertToInteractive',\n",
              "                                                     [key], {});\n",
              "          if (!dataTable) return;\n",
              "\n",
              "          const docLinkHtml = 'Like what you see? Visit the ' +\n",
              "            '<a target=\"_blank\" href=https://colab.research.google.com/notebooks/data_table.ipynb>data table notebook</a>'\n",
              "            + ' to learn more about interactive tables.';\n",
              "          element.innerHTML = '';\n",
              "          dataTable['output_type'] = 'display_data';\n",
              "          await google.colab.output.renderOutput(dataTable, element);\n",
              "          const docLink = document.createElement('div');\n",
              "          docLink.innerHTML = docLinkHtml;\n",
              "          element.appendChild(docLink);\n",
              "        }\n",
              "      </script>\n",
              "    </div>\n",
              "  </div>\n",
              "  "
            ],
            "text/plain": [
              "  card_name  ...                                              image\n",
              "0   Encrust  ...  https://gatherer.wizards.com/Handlers/Image.as...\n",
              "\n",
              "[1 rows x 9 columns]"
            ]
          },
          "metadata": {},
          "execution_count": 138
        }
      ]
    },
    {
      "cell_type": "markdown",
      "source": [
        "# Criando uma rotina de scraping"
      ],
      "metadata": {
        "id": "O15gwIrhWgyq"
      }
    },
    {
      "cell_type": "code",
      "source": [
        "from urllib.request import urlopen\n",
        "import pandas as pd\n",
        "from bs4 import BeautifulSoup\n",
        "import time\n",
        "\n",
        "def trata_html(input):\n",
        "    return \" \".join(input.split()).replace('> <', '><')\n",
        "\n",
        "cards = []\n",
        "\n",
        "inicio = time.time()\n",
        "for i in range(1,101):\n",
        "  card = {}\n",
        "\n",
        "  url = 'https://gatherer.wizards.com/Pages/Card/Details.aspx?printed=false&multiverseid=' +str(i)\n",
        "\n",
        "  response = urlopen(url)\n",
        "  html = response.read()\n",
        "\n",
        "  html = html.decode('utf-8')\n",
        "  html = trata_html(html)\n",
        "\n",
        "  soup = BeautifulSoup(html, 'html.parser')\n",
        "\n",
        "  # Verificando a possilidade da página não existir\n",
        "  if soup.title.get_text() == \" Gatherer - Magic: The Gathering \":\n",
        "    continue\n",
        "\n",
        "  # Obtendo as infomações gerais\n",
        "  itens = soup.findAll('div', class_=\"label\")\n",
        "  i = 0\n",
        "  index = []\n",
        "  caracteristicas = []\n",
        "  for item in itens:\n",
        "    index.append((item.get_text().lstrip(), i))\n",
        "    caracteristicas.append((item.get_text().lstrip()))\n",
        "    i += 1\n",
        "  \n",
        "  if \"Card Name:\" in caracteristicas:\n",
        "    card_name = itens[caracteristicas.index(\"Card Name:\")].find_next().get_text().lstrip()\n",
        "  \n",
        "  mana_cost = []\n",
        "  for mana in soup.findAll('img', {\"align\":\"absbottom\"}):\n",
        "    mana_cost.append(mana.get(\"alt\"))\n",
        "\n",
        "  if \"Types:\" in caracteristicas:\n",
        "    types = itens[caracteristicas.index(\"Types:\")].find_next().get_text().lstrip()\n",
        "\n",
        "  text = []\n",
        "  for phrase in soup.findAll('div', class_=\"cardtextbox\"):\n",
        "    text.append(phrase.get_text())\n",
        "  text = \"\\n\".join(text)\n",
        "  \n",
        "  if \"P/T:\" in caracteristicas:\n",
        "    power = itens[caracteristicas.index(\"P/T:\")].find_next().find_next().get_text().lstrip()\n",
        "  else:\n",
        "    power = \"0 / 0\"\n",
        "  atack = power.split(\"/\")[0]\n",
        "  defense = power.split(\"/\")[1]\n",
        "\n",
        "  if \"Expansion:\" in caracteristicas:\n",
        "    edition = itens[caracteristicas.index(\"Expansion:\")].find_next().get_text().lstrip()\n",
        "  \n",
        "  if \"Rarity:\" in caracteristicas:\n",
        "    rarity = itens[caracteristicas.index(\"Rarity:\")].find_next().get_text().lstrip()\n",
        "  \n",
        "  image = soup.find('div', class_=\"cardImage\").find('img')\n",
        "  image_link = \"https://gatherer.wizards.com\" + image.get('src')[5:]\n",
        "\n",
        "  card = {\"card_name\": card_name,\n",
        "        \"types\": types,\n",
        "        \"mana_cost\": mana_cost,\n",
        "        \"text\": text,\n",
        "        \"atack\": atack,\n",
        "        \"defense\": defense,\n",
        "        \"edition\": edition,\n",
        "        \"rarity\": rarity,\n",
        "        \"image\": image_link}\n",
        "\n",
        "  cards.append(card)\n",
        "\n",
        "df = pd.DataFrame(cards)\n",
        "\n",
        "fim = time.time()\n",
        "print(f' Tempo de execução: {fim - inicio} segundos')"
      ],
      "metadata": {
        "colab": {
          "base_uri": "https://localhost:8080/"
        },
        "id": "MuZUJxPYVznK",
        "outputId": "09e0b3c2-87f5-4c22-8e46-af2f5881f584"
      },
      "execution_count": null,
      "outputs": [
        {
          "output_type": "stream",
          "name": "stdout",
          "text": [
            " Tempo de execução: 110.03138494491577 segundos\n"
          ]
        }
      ]
    },
    {
      "cell_type": "code",
      "source": [
        "df"
      ],
      "metadata": {
        "colab": {
          "base_uri": "https://localhost:8080/",
          "height": 1792
        },
        "id": "sScdhq3UXMLq",
        "outputId": "5f46a9ac-102c-45fe-ee32-53cd91c6bf6e"
      },
      "execution_count": null,
      "outputs": [
        {
          "output_type": "execute_result",
          "data": {
            "text/html": [
              "\n",
              "  <div id=\"df-5f78ecf9-d791-459d-9305-4ff16dab7d75\">\n",
              "    <div class=\"colab-df-container\">\n",
              "      <div>\n",
              "<style scoped>\n",
              "    .dataframe tbody tr th:only-of-type {\n",
              "        vertical-align: middle;\n",
              "    }\n",
              "\n",
              "    .dataframe tbody tr th {\n",
              "        vertical-align: top;\n",
              "    }\n",
              "\n",
              "    .dataframe thead th {\n",
              "        text-align: right;\n",
              "    }\n",
              "</style>\n",
              "<table border=\"1\" class=\"dataframe\">\n",
              "  <thead>\n",
              "    <tr style=\"text-align: right;\">\n",
              "      <th></th>\n",
              "      <th>card_name</th>\n",
              "      <th>types</th>\n",
              "      <th>mana_cost</th>\n",
              "      <th>text</th>\n",
              "      <th>atack</th>\n",
              "      <th>defense</th>\n",
              "      <th>edition</th>\n",
              "      <th>rarity</th>\n",
              "      <th>image</th>\n",
              "    </tr>\n",
              "  </thead>\n",
              "  <tbody>\n",
              "    <tr>\n",
              "      <th>0</th>\n",
              "      <td>Ankh of Mishra</td>\n",
              "      <td>Artifact</td>\n",
              "      <td>[2]</td>\n",
              "      <td>Whenever a land enters the battlefield, Ankh o...</td>\n",
              "      <td>0</td>\n",
              "      <td>0</td>\n",
              "      <td>Limited Edition Alpha</td>\n",
              "      <td>Rare</td>\n",
              "      <td>https://gatherer.wizards.com/Handlers/Image.as...</td>\n",
              "    </tr>\n",
              "    <tr>\n",
              "      <th>1</th>\n",
              "      <td>Basalt Monolith</td>\n",
              "      <td>Artifact</td>\n",
              "      <td>[3, Tap, Colorless, Colorless, Colorless, 3]</td>\n",
              "      <td>Basalt Monolith doesn't untap during your unta...</td>\n",
              "      <td>0</td>\n",
              "      <td>0</td>\n",
              "      <td>Limited Edition Alpha</td>\n",
              "      <td>Uncommon</td>\n",
              "      <td>https://gatherer.wizards.com/Handlers/Image.as...</td>\n",
              "    </tr>\n",
              "    <tr>\n",
              "      <th>2</th>\n",
              "      <td>Black Lotus</td>\n",
              "      <td>Artifact</td>\n",
              "      <td>[0, Tap]</td>\n",
              "      <td>, Sacrifice Black Lotus: Add three mana of any...</td>\n",
              "      <td>0</td>\n",
              "      <td>0</td>\n",
              "      <td>Limited Edition Alpha</td>\n",
              "      <td>Rare</td>\n",
              "      <td>https://gatherer.wizards.com/Handlers/Image.as...</td>\n",
              "    </tr>\n",
              "    <tr>\n",
              "      <th>3</th>\n",
              "      <td>Black Vise</td>\n",
              "      <td>Artifact</td>\n",
              "      <td>[1]</td>\n",
              "      <td>As Black Vise enters the battlefield, choose a...</td>\n",
              "      <td>0</td>\n",
              "      <td>0</td>\n",
              "      <td>Limited Edition Alpha</td>\n",
              "      <td>Uncommon</td>\n",
              "      <td>https://gatherer.wizards.com/Handlers/Image.as...</td>\n",
              "    </tr>\n",
              "    <tr>\n",
              "      <th>4</th>\n",
              "      <td>Celestial Prism</td>\n",
              "      <td>Artifact</td>\n",
              "      <td>[3, 2, Tap]</td>\n",
              "      <td>, : Add one mana of any color.</td>\n",
              "      <td>0</td>\n",
              "      <td>0</td>\n",
              "      <td>Limited Edition Alpha</td>\n",
              "      <td>Uncommon</td>\n",
              "      <td>https://gatherer.wizards.com/Handlers/Image.as...</td>\n",
              "    </tr>\n",
              "    <tr>\n",
              "      <th>...</th>\n",
              "      <td>...</td>\n",
              "      <td>...</td>\n",
              "      <td>...</td>\n",
              "      <td>...</td>\n",
              "      <td>...</td>\n",
              "      <td>...</td>\n",
              "      <td>...</td>\n",
              "      <td>...</td>\n",
              "      <td>...</td>\n",
              "    </tr>\n",
              "    <tr>\n",
              "      <th>95</th>\n",
              "      <td>Animate Artifact</td>\n",
              "      <td>Enchantment — Aura</td>\n",
              "      <td>[3, Blue, Tap]</td>\n",
              "      <td>Enchant artifact\\nAs long as enchanted artifac...</td>\n",
              "      <td>0</td>\n",
              "      <td>0</td>\n",
              "      <td>Limited Edition Alpha</td>\n",
              "      <td>Uncommon</td>\n",
              "      <td>https://gatherer.wizards.com/Handlers/Image.as...</td>\n",
              "    </tr>\n",
              "    <tr>\n",
              "      <th>96</th>\n",
              "      <td>Blue Elemental Blast</td>\n",
              "      <td>Instant</td>\n",
              "      <td>[Blue]</td>\n",
              "      <td>Choose one —\\n• Counter target red spell.\\n• D...</td>\n",
              "      <td>0</td>\n",
              "      <td>0</td>\n",
              "      <td>Limited Edition Alpha</td>\n",
              "      <td>Common</td>\n",
              "      <td>https://gatherer.wizards.com/Handlers/Image.as...</td>\n",
              "    </tr>\n",
              "    <tr>\n",
              "      <th>97</th>\n",
              "      <td>Braingeyser</td>\n",
              "      <td>Sorcery</td>\n",
              "      <td>[Variable Colorless, Blue, Blue]</td>\n",
              "      <td>Target player draws X cards.</td>\n",
              "      <td>0</td>\n",
              "      <td>0</td>\n",
              "      <td>Limited Edition Alpha</td>\n",
              "      <td>Rare</td>\n",
              "      <td>https://gatherer.wizards.com/Handlers/Image.as...</td>\n",
              "    </tr>\n",
              "    <tr>\n",
              "      <th>98</th>\n",
              "      <td>Clone</td>\n",
              "      <td>Creature — Shapeshifter</td>\n",
              "      <td>[3, Blue, Variable Colorless]</td>\n",
              "      <td>You may have Clone enter the battlefield as a ...</td>\n",
              "      <td>0</td>\n",
              "      <td>0</td>\n",
              "      <td>Limited Edition Alpha</td>\n",
              "      <td>Uncommon</td>\n",
              "      <td>https://gatherer.wizards.com/Handlers/Image.as...</td>\n",
              "    </tr>\n",
              "    <tr>\n",
              "      <th>99</th>\n",
              "      <td>Control Magic</td>\n",
              "      <td>Enchantment — Aura</td>\n",
              "      <td>[2, Blue, Blue]</td>\n",
              "      <td>Enchant creature\\nYou control enchanted creature.</td>\n",
              "      <td>0</td>\n",
              "      <td>0</td>\n",
              "      <td>Limited Edition Alpha</td>\n",
              "      <td>Uncommon</td>\n",
              "      <td>https://gatherer.wizards.com/Handlers/Image.as...</td>\n",
              "    </tr>\n",
              "  </tbody>\n",
              "</table>\n",
              "<p>100 rows × 9 columns</p>\n",
              "</div>\n",
              "      <button class=\"colab-df-convert\" onclick=\"convertToInteractive('df-5f78ecf9-d791-459d-9305-4ff16dab7d75')\"\n",
              "              title=\"Convert this dataframe to an interactive table.\"\n",
              "              style=\"display:none;\">\n",
              "        \n",
              "  <svg xmlns=\"http://www.w3.org/2000/svg\" height=\"24px\"viewBox=\"0 0 24 24\"\n",
              "       width=\"24px\">\n",
              "    <path d=\"M0 0h24v24H0V0z\" fill=\"none\"/>\n",
              "    <path d=\"M18.56 5.44l.94 2.06.94-2.06 2.06-.94-2.06-.94-.94-2.06-.94 2.06-2.06.94zm-11 1L8.5 8.5l.94-2.06 2.06-.94-2.06-.94L8.5 2.5l-.94 2.06-2.06.94zm10 10l.94 2.06.94-2.06 2.06-.94-2.06-.94-.94-2.06-.94 2.06-2.06.94z\"/><path d=\"M17.41 7.96l-1.37-1.37c-.4-.4-.92-.59-1.43-.59-.52 0-1.04.2-1.43.59L10.3 9.45l-7.72 7.72c-.78.78-.78 2.05 0 2.83L4 21.41c.39.39.9.59 1.41.59.51 0 1.02-.2 1.41-.59l7.78-7.78 2.81-2.81c.8-.78.8-2.07 0-2.86zM5.41 20L4 18.59l7.72-7.72 1.47 1.35L5.41 20z\"/>\n",
              "  </svg>\n",
              "      </button>\n",
              "      \n",
              "  <style>\n",
              "    .colab-df-container {\n",
              "      display:flex;\n",
              "      flex-wrap:wrap;\n",
              "      gap: 12px;\n",
              "    }\n",
              "\n",
              "    .colab-df-convert {\n",
              "      background-color: #E8F0FE;\n",
              "      border: none;\n",
              "      border-radius: 50%;\n",
              "      cursor: pointer;\n",
              "      display: none;\n",
              "      fill: #1967D2;\n",
              "      height: 32px;\n",
              "      padding: 0 0 0 0;\n",
              "      width: 32px;\n",
              "    }\n",
              "\n",
              "    .colab-df-convert:hover {\n",
              "      background-color: #E2EBFA;\n",
              "      box-shadow: 0px 1px 2px rgba(60, 64, 67, 0.3), 0px 1px 3px 1px rgba(60, 64, 67, 0.15);\n",
              "      fill: #174EA6;\n",
              "    }\n",
              "\n",
              "    [theme=dark] .colab-df-convert {\n",
              "      background-color: #3B4455;\n",
              "      fill: #D2E3FC;\n",
              "    }\n",
              "\n",
              "    [theme=dark] .colab-df-convert:hover {\n",
              "      background-color: #434B5C;\n",
              "      box-shadow: 0px 1px 3px 1px rgba(0, 0, 0, 0.15);\n",
              "      filter: drop-shadow(0px 1px 2px rgba(0, 0, 0, 0.3));\n",
              "      fill: #FFFFFF;\n",
              "    }\n",
              "  </style>\n",
              "\n",
              "      <script>\n",
              "        const buttonEl =\n",
              "          document.querySelector('#df-5f78ecf9-d791-459d-9305-4ff16dab7d75 button.colab-df-convert');\n",
              "        buttonEl.style.display =\n",
              "          google.colab.kernel.accessAllowed ? 'block' : 'none';\n",
              "\n",
              "        async function convertToInteractive(key) {\n",
              "          const element = document.querySelector('#df-5f78ecf9-d791-459d-9305-4ff16dab7d75');\n",
              "          const dataTable =\n",
              "            await google.colab.kernel.invokeFunction('convertToInteractive',\n",
              "                                                     [key], {});\n",
              "          if (!dataTable) return;\n",
              "\n",
              "          const docLinkHtml = 'Like what you see? Visit the ' +\n",
              "            '<a target=\"_blank\" href=https://colab.research.google.com/notebooks/data_table.ipynb>data table notebook</a>'\n",
              "            + ' to learn more about interactive tables.';\n",
              "          element.innerHTML = '';\n",
              "          dataTable['output_type'] = 'display_data';\n",
              "          await google.colab.output.renderOutput(dataTable, element);\n",
              "          const docLink = document.createElement('div');\n",
              "          docLink.innerHTML = docLinkHtml;\n",
              "          element.appendChild(docLink);\n",
              "        }\n",
              "      </script>\n",
              "    </div>\n",
              "  </div>\n",
              "  "
            ],
            "text/plain": [
              "               card_name  ...                                              image\n",
              "0         Ankh of Mishra  ...  https://gatherer.wizards.com/Handlers/Image.as...\n",
              "1        Basalt Monolith  ...  https://gatherer.wizards.com/Handlers/Image.as...\n",
              "2            Black Lotus  ...  https://gatherer.wizards.com/Handlers/Image.as...\n",
              "3             Black Vise  ...  https://gatherer.wizards.com/Handlers/Image.as...\n",
              "4        Celestial Prism  ...  https://gatherer.wizards.com/Handlers/Image.as...\n",
              "..                   ...  ...                                                ...\n",
              "95      Animate Artifact  ...  https://gatherer.wizards.com/Handlers/Image.as...\n",
              "96  Blue Elemental Blast  ...  https://gatherer.wizards.com/Handlers/Image.as...\n",
              "97           Braingeyser  ...  https://gatherer.wizards.com/Handlers/Image.as...\n",
              "98                 Clone  ...  https://gatherer.wizards.com/Handlers/Image.as...\n",
              "99         Control Magic  ...  https://gatherer.wizards.com/Handlers/Image.as...\n",
              "\n",
              "[100 rows x 9 columns]"
            ]
          },
          "metadata": {},
          "execution_count": 160
        }
      ]
    },
    {
      "cell_type": "code",
      "source": [
        "df.to_csv(\"magic_dataset.csv\", sep=';', index=False, encoding='utf-8-sig')"
      ],
      "metadata": {
        "id": "xAGmOW99e9ca"
      },
      "execution_count": null,
      "outputs": []
    }
  ]
}